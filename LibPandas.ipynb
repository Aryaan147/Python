{
 "cells": [
  {
   "cell_type": "code",
   "execution_count": 1,
   "id": "ed22cbc9",
   "metadata": {},
   "outputs": [],
   "source": [
    "import pandas as pd\n",
    "\n",
    "# .csv: comma separated values file\n",
    "# series: data with only one row\n",
    "# dataframe: data with multiplr rows"
   ]
  },
  {
   "cell_type": "code",
   "execution_count": 2,
   "id": "fcb48bfd",
   "metadata": {},
   "outputs": [
    {
     "name": "stdout",
     "output_type": "stream",
     "text": [
      "      ORDERNUMBER  QUANTITYORDERED  PRICEEACH  ORDERLINENUMBER    SALES  \\\n",
      "0           10107               30      95.70                2  2871.00   \n",
      "1           10121               34      81.35                5  2765.90   \n",
      "2           10134               41      94.74                2  3884.34   \n",
      "3           10145               45      83.26                6  3746.70   \n",
      "4           10159               49     100.00               14  5205.27   \n",
      "...           ...              ...        ...              ...      ...   \n",
      "2818        10350               20     100.00               15  2244.40   \n",
      "2819        10373               29     100.00                1  3978.51   \n",
      "2820        10386               43     100.00                4  5417.57   \n",
      "2821        10397               34      62.24                1  2116.16   \n",
      "2822        10414               47      65.52                9  3079.44   \n",
      "\n",
      "            ORDERDATE    STATUS  QTR_ID  MONTH_ID  YEAR_ID  ...  \\\n",
      "0      2/24/2003 0:00   Shipped       1         2     2003  ...   \n",
      "1       5/7/2003 0:00   Shipped       2         5     2003  ...   \n",
      "2       7/1/2003 0:00   Shipped       3         7     2003  ...   \n",
      "3      8/25/2003 0:00   Shipped       3         8     2003  ...   \n",
      "4     10/10/2003 0:00   Shipped       4        10     2003  ...   \n",
      "...               ...       ...     ...       ...      ...  ...   \n",
      "2818   12/2/2004 0:00   Shipped       4        12     2004  ...   \n",
      "2819   1/31/2005 0:00   Shipped       1         1     2005  ...   \n",
      "2820    3/1/2005 0:00  Resolved       1         3     2005  ...   \n",
      "2821   3/28/2005 0:00   Shipped       1         3     2005  ...   \n",
      "2822    5/6/2005 0:00   On Hold       2         5     2005  ...   \n",
      "\n",
      "                       ADDRESSLINE1  ADDRESSLINE2           CITY STATE  \\\n",
      "0           897 Long Airport Avenue           NaN            NYC    NY   \n",
      "1                59 rue de l'Abbaye           NaN          Reims   NaN   \n",
      "2     27 rue du Colonel Pierre Avia           NaN          Paris   NaN   \n",
      "3                78934 Hillside Dr.           NaN       Pasadena    CA   \n",
      "4                   7734 Strong St.           NaN  San Francisco    CA   \n",
      "...                             ...           ...            ...   ...   \n",
      "2818             C/ Moralzarzal, 86           NaN         Madrid   NaN   \n",
      "2819                    Torikatu 38           NaN           Oulu   NaN   \n",
      "2820             C/ Moralzarzal, 86           NaN         Madrid   NaN   \n",
      "2821          1 rue Alsace-Lorraine           NaN       Toulouse   NaN   \n",
      "2822             8616 Spinnaker Dr.           NaN         Boston    MA   \n",
      "\n",
      "     POSTALCODE  COUNTRY TERRITORY CONTACTLASTNAME CONTACTFIRSTNAME DEALSIZE  \n",
      "0         10022      USA       NaN              Yu             Kwai    Small  \n",
      "1         51100   France      EMEA         Henriot             Paul    Small  \n",
      "2         75508   France      EMEA        Da Cunha           Daniel   Medium  \n",
      "3         90003      USA       NaN           Young            Julie   Medium  \n",
      "4           NaN      USA       NaN           Brown            Julie   Medium  \n",
      "...         ...      ...       ...             ...              ...      ...  \n",
      "2818      28034    Spain      EMEA          Freyre            Diego    Small  \n",
      "2819      90110  Finland      EMEA       Koskitalo           Pirkko   Medium  \n",
      "2820      28034    Spain      EMEA          Freyre            Diego   Medium  \n",
      "2821      31000   France      EMEA          Roulet          Annette    Small  \n",
      "2822      51003      USA       NaN         Yoshido             Juri   Medium  \n",
      "\n",
      "[2823 rows x 25 columns]\n"
     ]
    }
   ],
   "source": [
    "df = pd.read_csv(\"sales_data_sample.csv\", encoding = \"latin1\")\n",
    "print(df)\n",
    "\n",
    "#if getting ecoding error then write \"encoding = \"latin1\"\" or \"encoding = \"utf-8\"\"\n",
    "#can read json and excel file with \n",
    "#           pd.read_json()\n",
    "#       or  pd.read_excel()\n"
   ]
  },
  {
   "cell_type": "code",
   "execution_count": 3,
   "id": "b40e4382",
   "metadata": {},
   "outputs": [
    {
     "name": "stdout",
     "output_type": "stream",
     "text": [
      "      ORDERNUMBER  QUANTITYORDERED  PRICEEACH  ORDERLINENUMBER    SALES  \\\n",
      "0           10107               30      95.70                2  2871.00   \n",
      "1           10121               34      81.35                5  2765.90   \n",
      "2           10134               41      94.74                2  3884.34   \n",
      "3           10145               45      83.26                6  3746.70   \n",
      "4           10159               49     100.00               14  5205.27   \n",
      "...           ...              ...        ...              ...      ...   \n",
      "2818        10350               20     100.00               15  2244.40   \n",
      "2819        10373               29     100.00                1  3978.51   \n",
      "2820        10386               43     100.00                4  5417.57   \n",
      "2821        10397               34      62.24                1  2116.16   \n",
      "2822        10414               47      65.52                9  3079.44   \n",
      "\n",
      "            ORDERDATE    STATUS  QTR_ID  MONTH_ID  YEAR_ID  ...  \\\n",
      "0      2/24/2003 0:00   Shipped       1         2     2003  ...   \n",
      "1       5/7/2003 0:00   Shipped       2         5     2003  ...   \n",
      "2       7/1/2003 0:00   Shipped       3         7     2003  ...   \n",
      "3      8/25/2003 0:00   Shipped       3         8     2003  ...   \n",
      "4     10/10/2003 0:00   Shipped       4        10     2003  ...   \n",
      "...               ...       ...     ...       ...      ...  ...   \n",
      "2818   12/2/2004 0:00   Shipped       4        12     2004  ...   \n",
      "2819   1/31/2005 0:00   Shipped       1         1     2005  ...   \n",
      "2820    3/1/2005 0:00  Resolved       1         3     2005  ...   \n",
      "2821   3/28/2005 0:00   Shipped       1         3     2005  ...   \n",
      "2822    5/6/2005 0:00   On Hold       2         5     2005  ...   \n",
      "\n",
      "                       ADDRESSLINE1  ADDRESSLINE2           CITY STATE  \\\n",
      "0           897 Long Airport Avenue           NaN            NYC    NY   \n",
      "1                59 rue de l'Abbaye           NaN          Reims   NaN   \n",
      "2     27 rue du Colonel Pierre Avia           NaN          Paris   NaN   \n",
      "3                78934 Hillside Dr.           NaN       Pasadena    CA   \n",
      "4                   7734 Strong St.           NaN  San Francisco    CA   \n",
      "...                             ...           ...            ...   ...   \n",
      "2818             C/ Moralzarzal, 86           NaN         Madrid   NaN   \n",
      "2819                    Torikatu 38           NaN           Oulu   NaN   \n",
      "2820             C/ Moralzarzal, 86           NaN         Madrid   NaN   \n",
      "2821          1 rue Alsace-Lorraine           NaN       Toulouse   NaN   \n",
      "2822             8616 Spinnaker Dr.           NaN         Boston    MA   \n",
      "\n",
      "     POSTALCODE  COUNTRY TERRITORY CONTACTLASTNAME CONTACTFIRSTNAME DEALSIZE  \n",
      "0         10022      USA       NaN              Yu             Kwai    Small  \n",
      "1         51100   France      EMEA         Henriot             Paul    Small  \n",
      "2         75508   France      EMEA        Da Cunha           Daniel   Medium  \n",
      "3         90003      USA       NaN           Young            Julie   Medium  \n",
      "4           NaN      USA       NaN           Brown            Julie   Medium  \n",
      "...         ...      ...       ...             ...              ...      ...  \n",
      "2818      28034    Spain      EMEA          Freyre            Diego    Small  \n",
      "2819      90110  Finland      EMEA       Koskitalo           Pirkko   Medium  \n",
      "2820      28034    Spain      EMEA          Freyre            Diego   Medium  \n",
      "2821      31000   France      EMEA          Roulet          Annette    Small  \n",
      "2822      51003      USA       NaN         Yoshido             Juri   Medium  \n",
      "\n",
      "[2823 rows x 25 columns]\n"
     ]
    }
   ],
   "source": [
    "# How to save the data as a file\n",
    "\n",
    "data = {\n",
    "    \"Name\":[\"Ram\", \"Shyam\", \"Ghanshyam\", \"Rohit\", \"Rohan\"],\n",
    "    \"Age\":[22, 25, 23, 26, 23],\n",
    "    \"Salary\":[10, 8, 13, 9, 11],\n",
    "    \"Performance\":[98, 96, 97, 95, 99]\n",
    "}\n",
    "small_df = pd.DataFrame(data)\n",
    "print(df)\n",
    "\n",
    "small_df.to_csv(\"data.csv\", index = False)   # Saves the dat ain a csv file in current folder\n"
   ]
  },
  {
   "cell_type": "code",
   "execution_count": 4,
   "id": "02afa39a",
   "metadata": {},
   "outputs": [
    {
     "name": "stdout",
     "output_type": "stream",
     "text": [
      "   ORDERNUMBER  QUANTITYORDERED  PRICEEACH  ORDERLINENUMBER    SALES  \\\n",
      "0        10107               30      95.70                2  2871.00   \n",
      "1        10121               34      81.35                5  2765.90   \n",
      "2        10134               41      94.74                2  3884.34   \n",
      "3        10145               45      83.26                6  3746.70   \n",
      "4        10159               49     100.00               14  5205.27   \n",
      "5        10168               36      96.66                1  3479.76   \n",
      "6        10180               29      86.13                9  2497.77   \n",
      "7        10188               48     100.00                1  5512.32   \n",
      "8        10201               22      98.57                2  2168.54   \n",
      "9        10211               41     100.00               14  4708.44   \n",
      "\n",
      "         ORDERDATE   STATUS  QTR_ID  MONTH_ID  YEAR_ID  ...  \\\n",
      "0   2/24/2003 0:00  Shipped       1         2     2003  ...   \n",
      "1    5/7/2003 0:00  Shipped       2         5     2003  ...   \n",
      "2    7/1/2003 0:00  Shipped       3         7     2003  ...   \n",
      "3   8/25/2003 0:00  Shipped       3         8     2003  ...   \n",
      "4  10/10/2003 0:00  Shipped       4        10     2003  ...   \n",
      "5  10/28/2003 0:00  Shipped       4        10     2003  ...   \n",
      "6  11/11/2003 0:00  Shipped       4        11     2003  ...   \n",
      "7  11/18/2003 0:00  Shipped       4        11     2003  ...   \n",
      "8   12/1/2003 0:00  Shipped       4        12     2003  ...   \n",
      "9   1/15/2004 0:00  Shipped       1         1     2004  ...   \n",
      "\n",
      "                    ADDRESSLINE1  ADDRESSLINE2           CITY STATE  \\\n",
      "0        897 Long Airport Avenue           NaN            NYC    NY   \n",
      "1             59 rue de l'Abbaye           NaN          Reims   NaN   \n",
      "2  27 rue du Colonel Pierre Avia           NaN          Paris   NaN   \n",
      "3             78934 Hillside Dr.           NaN       Pasadena    CA   \n",
      "4                7734 Strong St.           NaN  San Francisco    CA   \n",
      "5              9408 Furth Circle           NaN     Burlingame    CA   \n",
      "6        184, chausse de Tournai           NaN          Lille   NaN   \n",
      "7    Drammen 121, PR 744 Sentrum           NaN         Bergen   NaN   \n",
      "8      5557 North Pendale Street           NaN  San Francisco    CA   \n",
      "9              25, rue Lauriston           NaN          Paris   NaN   \n",
      "\n",
      "  POSTALCODE COUNTRY TERRITORY CONTACTLASTNAME CONTACTFIRSTNAME DEALSIZE  \n",
      "0      10022     USA       NaN              Yu             Kwai    Small  \n",
      "1      51100  France      EMEA         Henriot             Paul    Small  \n",
      "2      75508  France      EMEA        Da Cunha           Daniel   Medium  \n",
      "3      90003     USA       NaN           Young            Julie   Medium  \n",
      "4        NaN     USA       NaN           Brown            Julie   Medium  \n",
      "5      94217     USA       NaN          Hirano             Juri   Medium  \n",
      "6      59000  France      EMEA           Rance          Martine    Small  \n",
      "7     N 5804  Norway      EMEA          Oeztan           Veysel   Medium  \n",
      "8        NaN     USA       NaN          Murphy            Julie    Small  \n",
      "9      75016  France      EMEA         Perrier        Dominique   Medium  \n",
      "\n",
      "[10 rows x 25 columns]\n",
      "      ORDERNUMBER  QUANTITYORDERED  PRICEEACH  ORDERLINENUMBER    SALES  \\\n",
      "2813        10293               32      60.06                1  1921.92   \n",
      "2814        10306               35      59.51                6  2082.85   \n",
      "2815        10315               40      55.69                5  2227.60   \n",
      "2816        10327               37      86.74                4  3209.38   \n",
      "2817        10337               42      97.16                5  4080.72   \n",
      "2818        10350               20     100.00               15  2244.40   \n",
      "2819        10373               29     100.00                1  3978.51   \n",
      "2820        10386               43     100.00                4  5417.57   \n",
      "2821        10397               34      62.24                1  2116.16   \n",
      "2822        10414               47      65.52                9  3079.44   \n",
      "\n",
      "            ORDERDATE    STATUS  QTR_ID  MONTH_ID  YEAR_ID  ...  \\\n",
      "2813    9/9/2004 0:00   Shipped       3         9     2004  ...   \n",
      "2814  10/14/2004 0:00   Shipped       4        10     2004  ...   \n",
      "2815  10/29/2004 0:00   Shipped       4        10     2004  ...   \n",
      "2816  11/10/2004 0:00  Resolved       4        11     2004  ...   \n",
      "2817  11/21/2004 0:00   Shipped       4        11     2004  ...   \n",
      "2818   12/2/2004 0:00   Shipped       4        12     2004  ...   \n",
      "2819   1/31/2005 0:00   Shipped       1         1     2005  ...   \n",
      "2820    3/1/2005 0:00  Resolved       1         3     2005  ...   \n",
      "2821   3/28/2005 0:00   Shipped       1         3     2005  ...   \n",
      "2822    5/6/2005 0:00   On Hold       2         5     2005  ...   \n",
      "\n",
      "                      ADDRESSLINE1  ADDRESSLINE2        CITY STATE POSTALCODE  \\\n",
      "2813           Via Monte Bianco 34           NaN      Torino   NaN      10100   \n",
      "2814             Fauntleroy Circus           NaN  Manchester   NaN    EC2 5NT   \n",
      "2815  67, rue des Cinquante Otages           NaN      Nantes   NaN      44000   \n",
      "2816                  Vinb'ltet 34           NaN   Kobenhavn   NaN       1734   \n",
      "2817              5905 Pompton St.     Suite 750         NYC    NY      10022   \n",
      "2818            C/ Moralzarzal, 86           NaN      Madrid   NaN      28034   \n",
      "2819                   Torikatu 38           NaN        Oulu   NaN      90110   \n",
      "2820            C/ Moralzarzal, 86           NaN      Madrid   NaN      28034   \n",
      "2821         1 rue Alsace-Lorraine           NaN    Toulouse   NaN      31000   \n",
      "2822            8616 Spinnaker Dr.           NaN      Boston    MA      51003   \n",
      "\n",
      "      COUNTRY TERRITORY CONTACTLASTNAME CONTACTFIRSTNAME DEALSIZE  \n",
      "2813    Italy      EMEA         Accorti            Paolo    Small  \n",
      "2814       UK      EMEA        Ashworth         Victoria    Small  \n",
      "2815   France      EMEA         Labrune           Janine    Small  \n",
      "2816  Denmark      EMEA        Petersen            Jytte   Medium  \n",
      "2817      USA       NaN       Hernandez            Maria   Medium  \n",
      "2818    Spain      EMEA          Freyre            Diego    Small  \n",
      "2819  Finland      EMEA       Koskitalo           Pirkko   Medium  \n",
      "2820    Spain      EMEA          Freyre            Diego   Medium  \n",
      "2821   France      EMEA          Roulet          Annette    Small  \n",
      "2822      USA       NaN         Yoshido             Juri   Medium  \n",
      "\n",
      "[10 rows x 25 columns]\n",
      "   ORDERNUMBER  QUANTITYORDERED  PRICEEACH  ORDERLINENUMBER    SALES  \\\n",
      "0        10107               30      95.70                2  2871.00   \n",
      "1        10121               34      81.35                5  2765.90   \n",
      "2        10134               41      94.74                2  3884.34   \n",
      "3        10145               45      83.26                6  3746.70   \n",
      "4        10159               49     100.00               14  5205.27   \n",
      "\n",
      "         ORDERDATE   STATUS  QTR_ID  MONTH_ID  YEAR_ID  ...  \\\n",
      "0   2/24/2003 0:00  Shipped       1         2     2003  ...   \n",
      "1    5/7/2003 0:00  Shipped       2         5     2003  ...   \n",
      "2    7/1/2003 0:00  Shipped       3         7     2003  ...   \n",
      "3   8/25/2003 0:00  Shipped       3         8     2003  ...   \n",
      "4  10/10/2003 0:00  Shipped       4        10     2003  ...   \n",
      "\n",
      "                    ADDRESSLINE1  ADDRESSLINE2           CITY STATE  \\\n",
      "0        897 Long Airport Avenue           NaN            NYC    NY   \n",
      "1             59 rue de l'Abbaye           NaN          Reims   NaN   \n",
      "2  27 rue du Colonel Pierre Avia           NaN          Paris   NaN   \n",
      "3             78934 Hillside Dr.           NaN       Pasadena    CA   \n",
      "4                7734 Strong St.           NaN  San Francisco    CA   \n",
      "\n",
      "  POSTALCODE COUNTRY TERRITORY CONTACTLASTNAME CONTACTFIRSTNAME DEALSIZE  \n",
      "0      10022     USA       NaN              Yu             Kwai    Small  \n",
      "1      51100  France      EMEA         Henriot             Paul    Small  \n",
      "2      75508  France      EMEA        Da Cunha           Daniel   Medium  \n",
      "3      90003     USA       NaN           Young            Julie   Medium  \n",
      "4        NaN     USA       NaN           Brown            Julie   Medium  \n",
      "\n",
      "[5 rows x 25 columns]\n"
     ]
    }
   ],
   "source": [
    "#head() tail()\n",
    "print(df.head(10))   #First 10 rows\n",
    "print(df.tail(10))   #Last 10 rows\n",
    "\n",
    "#for defoult no. of rows are 5\n",
    "print(df.head())"
   ]
  },
  {
   "cell_type": "code",
   "execution_count": 5,
   "id": "14a32593",
   "metadata": {},
   "outputs": [
    {
     "name": "stdout",
     "output_type": "stream",
     "text": [
      "<class 'pandas.core.frame.DataFrame'>\n",
      "RangeIndex: 5 entries, 0 to 4\n",
      "Data columns (total 4 columns):\n",
      " #   Column       Non-Null Count  Dtype \n",
      "---  ------       --------------  ----- \n",
      " 0   Name         5 non-null      object\n",
      " 1   Age          5 non-null      int64 \n",
      " 2   Salary       5 non-null      int64 \n",
      " 3   Performance  5 non-null      int64 \n",
      "dtypes: int64(3), object(1)\n",
      "memory usage: 292.0+ bytes\n",
      "None\n"
     ]
    }
   ],
   "source": [
    "# Display info of dataset\n",
    "print(small_df.info())"
   ]
  },
  {
   "cell_type": "code",
   "execution_count": 6,
   "id": "902922ce",
   "metadata": {},
   "outputs": [
    {
     "name": "stdout",
     "output_type": "stream",
     "text": [
      "             Age     Salary  Performance\n",
      "count   5.000000   5.000000     5.000000\n",
      "mean   23.800000  10.200000    97.000000\n",
      "std     1.643168   1.923538     1.581139\n",
      "min    22.000000   8.000000    95.000000\n",
      "25%    23.000000   9.000000    96.000000\n",
      "50%    23.000000  10.000000    97.000000\n",
      "75%    25.000000  11.000000    98.000000\n",
      "max    26.000000  13.000000    99.000000\n"
     ]
    }
   ],
   "source": [
    "#descriptive satistics\n",
    "print(small_df.describe())"
   ]
  },
  {
   "cell_type": "code",
   "execution_count": 7,
   "id": "b24c9fc7",
   "metadata": {},
   "outputs": [
    {
     "name": "stdout",
     "output_type": "stream",
     "text": [
      "Shape: (5, 4)\n",
      "Column Names: Index(['Name', 'Age', 'Salary', 'Performance'], dtype='object')\n"
     ]
    }
   ],
   "source": [
    "print(f\"Shape: {small_df.shape}\")\n",
    "print(f\"Column Names: {small_df.columns}\")"
   ]
  },
  {
   "cell_type": "code",
   "execution_count": 8,
   "id": "a9ea52db",
   "metadata": {},
   "outputs": [
    {
     "name": "stdout",
     "output_type": "stream",
     "text": [
      "0          Ram\n",
      "1        Shyam\n",
      "2    Ghanshyam\n",
      "3        Rohit\n",
      "4        Rohan\n",
      "Name: Name, dtype: object\n"
     ]
    }
   ],
   "source": [
    "#Access Single Column (returns series)\n",
    "print(small_df[\"Name\"])"
   ]
  },
  {
   "cell_type": "code",
   "execution_count": 9,
   "id": "717ab5b7",
   "metadata": {},
   "outputs": [
    {
     "name": "stdout",
     "output_type": "stream",
     "text": [
      "        Name  Salary\n",
      "0        Ram      10\n",
      "1      Shyam       8\n",
      "2  Ghanshyam      13\n",
      "3      Rohit       9\n",
      "4      Rohan      11\n"
     ]
    }
   ],
   "source": [
    "#Access Multiple Column (returns dataframe)\n",
    "print(small_df[[\"Name\", \"Salary\"]]) "
   ]
  },
  {
   "cell_type": "code",
   "execution_count": 10,
   "id": "576f7b1b",
   "metadata": {},
   "outputs": [
    {
     "name": "stdout",
     "output_type": "stream",
     "text": [
      "        Name  Age  Salary  Performance\n",
      "0        Ram   22      10           98\n",
      "2  Ghanshyam   23      13           97\n",
      "4      Rohan   23      11           99\n"
     ]
    }
   ],
   "source": [
    "#Filtering Rows\n",
    "high_salary = small_df[small_df[\"Salary\"]>9]\n",
    "print(high_salary)"
   ]
  },
  {
   "cell_type": "code",
   "execution_count": 11,
   "id": "3b4dedcb",
   "metadata": {},
   "outputs": [
    {
     "name": "stdout",
     "output_type": "stream",
     "text": [
      "        Name  Age  Salary  Performance\n",
      "2  Ghanshyam   23      13           97\n",
      "4      Rohan   23      11           99\n"
     ]
    }
   ],
   "source": [
    "#Multiple Conditions\n",
    "filtered = small_df[(small_df[\"Age\"]>22) & (small_df[\"Salary\"]>9)]\n",
    "print(filtered)"
   ]
  },
  {
   "cell_type": "markdown",
   "id": "988b6d6f",
   "metadata": {},
   "source": [
    "## Part-2 \n",
    "### Advanced Pandas"
   ]
  },
  {
   "cell_type": "code",
   "execution_count": 12,
   "id": "9e3580af",
   "metadata": {},
   "outputs": [
    {
     "name": "stdout",
     "output_type": "stream",
     "text": [
      "        Name  Age   Salary  Performance\n",
      "0        Ram   22  1000000           98\n",
      "1      Shyam   25   800000           96\n",
      "2  Ghanshyam   23  1300000           97\n",
      "3      Rohit   26   900000           95\n",
      "4      Rohan   23  1100000           99\n",
      "\n",
      "        Name  Age   Salary  Performance     Bonus\n",
      "0        Ram   22  1000000           98  100000.0\n",
      "1      Shyam   25   800000           96   80000.0\n",
      "2  Ghanshyam   23  1300000           97  130000.0\n",
      "3      Rohit   26   900000           95   90000.0\n",
      "4      Rohan   23  1100000           99  110000.0\n"
     ]
    }
   ],
   "source": [
    "# Adding Columns or Data\n",
    "small_df[\"Salary\"] = small_df[\"Salary\"]*100000\n",
    "print(small_df); print()\n",
    "small_df[\"Bonus\"] = (small_df[\"Salary\"]*10/100)\n",
    "print(small_df)"
   ]
  },
  {
   "cell_type": "code",
   "execution_count": 13,
   "id": "1d70b1f1",
   "metadata": {},
   "outputs": [
    {
     "name": "stdout",
     "output_type": "stream",
     "text": [
      "        Name  Age  Work Exp   Salary  Performance     Bonus\n",
      "0        Ram   22         1  1000000           98  100000.0\n",
      "1      Shyam   25         3   800000           96   80000.0\n",
      "2  Ghanshyam   23         2  1300000           97  130000.0\n",
      "3      Rohit   26         4   900000           95   90000.0\n",
      "4      Rohan   23         3  1100000           99  110000.0\n"
     ]
    }
   ],
   "source": [
    "# Insert column at specific location\n",
    "small_df.insert(2, \"Work Exp\", [1,3,2,4,3])\n",
    "print(small_df)"
   ]
  },
  {
   "cell_type": "code",
   "execution_count": 14,
   "id": "c05e393e",
   "metadata": {},
   "outputs": [
    {
     "name": "stdout",
     "output_type": "stream",
     "text": [
      "        Name  Age  Work Exp   Salary  Performance     Bonus\n",
      "0        Ram   22         1  1000000           98  100000.0\n",
      "1      Shyam   25         3   800000           96   80000.0\n",
      "2  Ghanshyam   23         2  1300000           97  130000.0\n",
      "3      Rohit   26         4  1200000           95   90000.0\n",
      "4      Rohan   23         3  1100000           99  110000.0\n"
     ]
    }
   ],
   "source": [
    "# Modifying Values\n",
    "small_df.loc[3, \"Salary\"] = 1200000\n",
    "print(small_df)"
   ]
  },
  {
   "cell_type": "code",
   "execution_count": 15,
   "id": "69ff3a48",
   "metadata": {},
   "outputs": [
    {
     "name": "stdout",
     "output_type": "stream",
     "text": [
      "        Name  Age  Work Exp   Salary  Performance     Bonus\n",
      "0        Ram   22         1  1000000           98  100000.0\n",
      "1      Shyam   25         3   800000           96   80000.0\n",
      "2  Ghanshyam   23         2  1300000           97  130000.0\n",
      "3      Rohit   26         4  1200000           95   90000.0\n",
      "4      Rohan   23         3  1100000           99  110000.0\n",
      "\n",
      "        Name  Age  Work Exp   Salary     Bonus\n",
      "0        Ram   22         1  1000000  100000.0\n",
      "1      Shyam   25         3   800000   80000.0\n",
      "2  Ghanshyam   23         2  1300000  130000.0\n",
      "3      Rohit   26         4  1200000   90000.0\n",
      "4      Rohan   23         3  1100000  110000.0\n",
      "\n"
     ]
    }
   ],
   "source": [
    "#Deleting Columns\n",
    "temp = small_df\n",
    "print(temp);print()\n",
    "\n",
    "temp.drop(columns = [\"Performance\"], inplace = True)\n",
    "print(temp);print()\n",
    "\n",
    "\n",
    "# temp.drop(rows = [0], inplace = True)\n",
    "# print(temp)\n"
   ]
  },
  {
   "cell_type": "markdown",
   "id": "a0471178",
   "metadata": {},
   "source": [
    "### Detecting Missing Data"
   ]
  },
  {
   "cell_type": "code",
   "execution_count": 16,
   "id": "eec99ede",
   "metadata": {},
   "outputs": [
    {
     "name": "stdout",
     "output_type": "stream",
     "text": [
      "    Name    Age  Salary  Performance_Score\n",
      "0  False  False   False              False\n",
      "1   True   True    True               True\n",
      "2  False  False   False              False\n",
      "3  False  False   False              False\n",
      "4  False  False   False              False\n",
      "5  False  False   False              False\n",
      "6  False  False   False              False\n",
      "7  False  False   False              False\n",
      "\n",
      "No of null values:\n",
      "Name                 1\n",
      "Age                  1\n",
      "Salary               1\n",
      "Performance_Score    1\n",
      "dtype: int64\n"
     ]
    }
   ],
   "source": [
    "# Detecting Missing values\n",
    "data = {\n",
    "    \"Name\": ['Ram', None, 'Ghanshyam', 'Dhanshyam', 'Aditi', 'Jagdish', 'Raj', 'Simran'],\n",
    "    \"Age\": [28, None, 22, 30, 29, 40, 25, 32],\n",
    "    \"Salary\": [55000, None, 45000, 52000, 49000, 70000, 48000, 55000],\n",
    "    \"Performance_Score\": [85, None, 78, 92, 88, 95, 80, 89]\n",
    "}\n",
    "temp = pd.DataFrame(data)\n",
    "\n",
    "print(temp.isnull()); print()\n",
    "print(\"No of null values:\")\n",
    "print(temp.isnull().sum())"
   ]
  },
  {
   "cell_type": "markdown",
   "id": "773a7ed2",
   "metadata": {},
   "source": [
    "### Handling Missing Data"
   ]
  },
  {
   "cell_type": "code",
   "execution_count": 17,
   "id": "90b38573",
   "metadata": {},
   "outputs": [
    {
     "name": "stdout",
     "output_type": "stream",
     "text": [
      "        Name   Age   Salary  Performance_Score\n",
      "0        Ram  28.0  55000.0               85.0\n",
      "2  Ghanshyam  22.0  45000.0               78.0\n",
      "3  Dhanshyam  30.0  52000.0               92.0\n",
      "4      Aditi  29.0  49000.0               88.0\n",
      "5    Jagdish  40.0  70000.0               95.0\n",
      "6        Raj  25.0  48000.0               80.0\n",
      "7     Simran  32.0  55000.0               89.0\n"
     ]
    }
   ],
   "source": [
    "data = {\n",
    "    \"Name\": ['Ram', None, 'Ghanshyam', 'Dhanshyam', 'Aditi', 'Jagdish', 'Raj', 'Simran'],\n",
    "    \"Age\": [28, None, 22, 30, 29, 40, 25, 32],\n",
    "    \"Salary\": [55000, None, 45000, 52000, 49000, 70000, 48000, 55000],\n",
    "    \"Performance_Score\": [85, None, 78, 92, 88, 95, 80, 89]\n",
    "}\n",
    "temp = pd.DataFrame(data)\n",
    "\n",
    "\n",
    "\n",
    "#Deleting rows with missing data\n",
    "temp.dropna(inplace=True)\n",
    "print(temp)"
   ]
  },
  {
   "cell_type": "code",
   "execution_count": 18,
   "id": "26485e9c",
   "metadata": {},
   "outputs": [
    {
     "name": "stdout",
     "output_type": "stream",
     "text": [
      "        Name    Age   Salary  Performance_Score\n",
      "0        Ram   28.0  55000.0               85.0\n",
      "1        100  100.0    100.0              100.0\n",
      "2  Ghanshyam   22.0  45000.0               78.0\n",
      "3  Dhanshyam   30.0  52000.0               92.0\n",
      "4      Aditi   29.0  49000.0               88.0\n",
      "5    Jagdish   40.0  70000.0               95.0\n",
      "6        Raj   25.0  48000.0               80.0\n",
      "7     Simran   32.0  55000.0               89.0\n"
     ]
    }
   ],
   "source": [
    "data = {\n",
    "    \"Name\": ['Ram', None, 'Ghanshyam', 'Dhanshyam', 'Aditi', 'Jagdish', 'Raj', 'Simran'],\n",
    "    \"Age\": [28, None, 22, 30, 29, 40, 25, 32],\n",
    "    \"Salary\": [55000, None, 45000, 52000, 49000, 70000, 48000, 55000],\n",
    "    \"Performance_Score\": [85, None, 78, 92, 88, 95, 80, 89]\n",
    "}\n",
    "temp = pd.DataFrame(data)\n",
    "\n",
    "\n",
    "\n",
    "\n",
    "\n",
    "#Filling missing data with any value\n",
    "\n",
    "temp.fillna(100, inplace = True)\n",
    "print(temp)"
   ]
  },
  {
   "cell_type": "code",
   "execution_count": 19,
   "id": "c9eb6622",
   "metadata": {},
   "outputs": [
    {
     "name": "stdout",
     "output_type": "stream",
     "text": [
      "        Name        Age        Salary  Performance_Score\n",
      "0        Ram  28.000000  55000.000000               85.0\n",
      "1       None  29.428571  53428.571429                NaN\n",
      "2  Ghanshyam  22.000000  45000.000000               78.0\n",
      "3  Dhanshyam  30.000000  52000.000000               92.0\n",
      "4      Aditi  29.000000  49000.000000               88.0\n",
      "5    Jagdish  40.000000  70000.000000               95.0\n",
      "6        Raj  25.000000  48000.000000               80.0\n",
      "7     Simran  32.000000  55000.000000               89.0\n"
     ]
    }
   ],
   "source": [
    "data = {\n",
    "    \"Name\": ['Ram', None, 'Ghanshyam', 'Dhanshyam', 'Aditi', 'Jagdish', 'Raj', 'Simran'],\n",
    "    \"Age\": [28, None, 22, 30, 29, 40, 25, 32],\n",
    "    \"Salary\": [55000, None, 45000, 52000, 49000, 70000, 48000, 55000],\n",
    "    \"Performance_Score\": [85, None, 78, 92, 88, 95, 80, 89]\n",
    "}\n",
    "temp = pd.DataFrame(data)\n",
    "\n",
    "\n",
    "\n",
    "\n",
    "\n",
    "#Filling missing data with mean\n",
    "\n",
    "temp[\"Age\"] = temp[\"Age\"].fillna(temp[\"Age\"].mean())\n",
    "temp[\"Salary\"] = temp[\"Salary\"].fillna(temp[\"Salary\"].mean())\n",
    "print(temp)"
   ]
  },
  {
   "cell_type": "code",
   "execution_count": 20,
   "id": "09897203",
   "metadata": {},
   "outputs": [
    {
     "name": "stdout",
     "output_type": "stream",
     "text": [
      "Before interpolation\n",
      "   Time  Value\n",
      "0     1   10.0\n",
      "1     2    NaN\n",
      "2     3   30.0\n",
      "3     4    NaN\n",
      "4     5   50.0\n",
      "After interpolation\n",
      "   Time  Value\n",
      "0     1   10.0\n",
      "1     2   20.0\n",
      "2     3   30.0\n",
      "3     4   40.0\n",
      "4     5   50.0\n"
     ]
    }
   ],
   "source": [
    "#Interpolation\n",
    "data = {\n",
    "    \"Time\": [1, 2, 3, 4, 5],\n",
    "    \"Value\": [10, None, 30, None, 50]\n",
    "}\n",
    "\n",
    "df = pd.DataFrame(data)\n",
    "print('Before interpolation')\n",
    "print(df)\n",
    "\n",
    "df['Value'] = df['Value'].interpolate(method=\"linear\") #There many methods like linear, polynomial, time, etc.\n",
    "print('After interpolation')\n",
    "print(df)\n"
   ]
  },
  {
   "cell_type": "markdown",
   "id": "45c9669d",
   "metadata": {},
   "source": [
    "### Sorting and Aggrigation\n",
    "\n",
    "\n",
    "Tutorial is pending with few topics\n",
    "https://youtu.be/0T9qhK5wBqI?si=opxJm9guiX6q1Oui&t=2318"
   ]
  },
  {
   "cell_type": "code",
   "execution_count": 21,
   "id": "3346f3af",
   "metadata": {},
   "outputs": [
    {
     "name": "stdout",
     "output_type": "stream",
     "text": [
      "        Name  Age  Work Exp   Salary     Bonus\n",
      "0        Ram   22         1  1000000  100000.0\n",
      "1      Shyam   25         3   800000   80000.0\n",
      "2  Ghanshyam   23         2  1300000  130000.0\n",
      "3      Rohit   26         4  1200000   90000.0\n",
      "4      Rohan   23         3  1100000  110000.0\n",
      "\n",
      "        Name  Age  Work Exp   Salary     Bonus\n",
      "2  Ghanshyam   23         2  1300000  130000.0\n",
      "3      Rohit   26         4  1200000   90000.0\n",
      "4      Rohan   23         3  1100000  110000.0\n",
      "0        Ram   22         1  1000000  100000.0\n",
      "1      Shyam   25         3   800000   80000.0\n"
     ]
    }
   ],
   "source": [
    "#Sorting data\n",
    "print(small_df); print()\n",
    "\n",
    "small_df.sort_values(by=\"Salary\", ascending=False, inplace=True)\n",
    "print(small_df)"
   ]
  },
  {
   "cell_type": "code",
   "execution_count": 22,
   "id": "399d4943",
   "metadata": {},
   "outputs": [
    {
     "ename": "ModuleNotFoundError",
     "evalue": "No module named 'sklearn'",
     "output_type": "error",
     "traceback": [
      "\u001b[31m---------------------------------------------------------------------------\u001b[39m",
      "\u001b[31mModuleNotFoundError\u001b[39m                       Traceback (most recent call last)",
      "\u001b[36mCell\u001b[39m\u001b[36m \u001b[39m\u001b[32mIn[22]\u001b[39m\u001b[32m, line 1\u001b[39m\n\u001b[32m----> \u001b[39m\u001b[32m1\u001b[39m \u001b[38;5;28;01mimport\u001b[39;00m\u001b[38;5;250m \u001b[39m\u001b[34;01msklearn\u001b[39;00m\n\u001b[32m      2\u001b[39m \u001b[38;5;28mprint\u001b[39m(sklearn.__version__)\n",
      "\u001b[31mModuleNotFoundError\u001b[39m: No module named 'sklearn'"
     ]
    }
   ],
   "source": [
    "import sklearn\n",
    "print(sklearn.__version__)\n"
   ]
  },
  {
   "cell_type": "code",
   "execution_count": null,
   "id": "625a8d7c",
   "metadata": {},
   "outputs": [],
   "source": []
  },
  {
   "cell_type": "code",
   "execution_count": null,
   "id": "42317291",
   "metadata": {},
   "outputs": [],
   "source": []
  },
  {
   "cell_type": "code",
   "execution_count": null,
   "id": "30b19db4",
   "metadata": {},
   "outputs": [],
   "source": []
  },
  {
   "cell_type": "code",
   "execution_count": null,
   "id": "b2be21af",
   "metadata": {},
   "outputs": [],
   "source": []
  },
  {
   "cell_type": "code",
   "execution_count": null,
   "id": "2c8beef3",
   "metadata": {},
   "outputs": [],
   "source": []
  },
  {
   "cell_type": "code",
   "execution_count": null,
   "id": "1a368efa",
   "metadata": {},
   "outputs": [],
   "source": []
  },
  {
   "cell_type": "code",
   "execution_count": null,
   "id": "0d40631c",
   "metadata": {},
   "outputs": [],
   "source": []
  }
 ],
 "metadata": {
  "kernelspec": {
   "display_name": ".venv",
   "language": "python",
   "name": "python3"
  },
  "language_info": {
   "codemirror_mode": {
    "name": "ipython",
    "version": 3
   },
   "file_extension": ".py",
   "mimetype": "text/x-python",
   "name": "python",
   "nbconvert_exporter": "python",
   "pygments_lexer": "ipython3",
   "version": "3.13.4"
  }
 },
 "nbformat": 4,
 "nbformat_minor": 5
}
