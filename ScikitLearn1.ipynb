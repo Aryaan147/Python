{
 "cells": [
  {
   "cell_type": "code",
   "execution_count": 18,
   "id": "c4c18847",
   "metadata": {},
   "outputs": [],
   "source": [
    "import pandas as pd\n",
    "from sklearn.preprocessing import LabelEncoder"
   ]
  },
  {
   "cell_type": "code",
   "execution_count": 19,
   "id": "f275e9db",
   "metadata": {},
   "outputs": [
    {
     "name": "stdout",
     "output_type": "stream",
     "text": [
      "Oignial Dataframe\n",
      "    name   age   salary\n",
      "0  Pavan  25.0  50000.0\n",
      "1  Kapil   NaN  60000.0\n",
      "2  Lalit  44.0  70000.0\n",
      "3  Ishan  23.0      NaN\n",
      "4   Ansh   NaN      NaN\n",
      "\n",
      "name      0\n",
      "age       2\n",
      "salary    2\n",
      "dtype: int64\n",
      "\n",
      "    name   age   salary\n",
      "0  Pavan  25.0  50000.0\n",
      "2  Lalit  44.0  70000.0\n",
      "\n",
      "    name        age   salary\n",
      "0  Pavan  25.000000  50000.0\n",
      "1  Kapil  30.666667  60000.0\n",
      "2  Lalit  44.000000  70000.0\n",
      "3  Ishan  23.000000  60000.0\n",
      "4   Ansh  30.666667  60000.0\n"
     ]
    }
   ],
   "source": [
    "data = {\n",
    "    \"name\" : [\"Pavan\", \"Kapil\", \"Lalit\", \"Ishan\", \"Ansh\"],\n",
    "    \"age\" : [25, None, 44,23,None],\n",
    "    \"salary\" : [50000, 60000, 70000, None, None]\n",
    "}\n",
    "df= pd.DataFrame(data)\n",
    "print(\"Oignial Dataframe\")\n",
    "print(df); print()\n",
    "\n",
    "print(df.isnull().sum()); print()\n",
    "\n",
    "print(df.dropna())\n",
    "\n",
    "df[\"age\"] = df[\"age\"].fillna(df[\"age\"].mean())\n",
    "df[\"salary\"] = df[\"salary\"].fillna(df[\"salary\"].mean())\n",
    "\n",
    "print()\n",
    "print(df)"
   ]
  },
  {
   "cell_type": "code",
   "execution_count": 23,
   "id": "3f477083",
   "metadata": {},
   "outputs": [
    {
     "name": "stdout",
     "output_type": "stream",
     "text": [
      "      Name  Gender       City Passed  Gender_Encoded  Passed_Encoded\n",
      "0     Aman    Male      Delhi    Yes               1               1\n",
      "1    Priya  Female     Mumbai    Yes               0               1\n",
      "2    Rahul    Male  Bangalore     No               1               0\n",
      "3   Anjali  Female     Mumbai    Yes               0               1\n",
      "4     Ravi    Male      Delhi    Yes               1               1\n",
      "5    Meera  Female    Chennai     No               0               0\n",
      "6    Arjun    Male  Bangalore    Yes               1               1\n",
      "7     Neha  Female      Delhi    Yes               0               1\n",
      "8    Imran    Male    Chennai     No               1               0\n",
      "9    Sneha  Female     Mumbai    Yes               0               1\n",
      "10     Raj    Male    Chennai    Yes               1               1\n",
      "11   Divya  Female      Delhi     No               0               0\n",
      "12   Kabir    Male     Mumbai    Yes               1               1\n",
      "13  Simran  Female  Bangalore    Yes               0               1\n",
      "14   Karan    Male      Delhi     No               1               0\n",
      "15   Pooja  Female     Mumbai    Yes               0               1\n",
      "16  Rakesh    Male    Chennai    Yes               1               1\n",
      "17    Isha  Female      Delhi     No               0               0\n",
      "18   Rohit    Male      Delhi    Yes               1               1\n",
      "19   Deepa  Female  Bangalore    Yes               0               1\n"
     ]
    }
   ],
   "source": [
    "df = pd.read_csv(\"scikit1_data.csv\")\n",
    "\n",
    "df_label = df.copy()\n",
    "\n",
    "le = LabelEncoder()\n",
    "df_label[\"Gender_Encoded\"] = le.fit_transform(df_label[\"Gender\"])\n",
    "df_label[\"Passed_Encoded\"] = le.fit_transform(df_label[\"Passed\"])\n",
    "print(df_label)"
   ]
  }
 ],
 "metadata": {
  "kernelspec": {
   "display_name": ".venv",
   "language": "python",
   "name": "python3"
  },
  "language_info": {
   "codemirror_mode": {
    "name": "ipython",
    "version": 3
   },
   "file_extension": ".py",
   "mimetype": "text/x-python",
   "name": "python",
   "nbconvert_exporter": "python",
   "pygments_lexer": "ipython3",
   "version": "3.13.4"
  }
 },
 "nbformat": 4,
 "nbformat_minor": 5
}
