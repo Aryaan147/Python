{
 "cells": [
  {
   "cell_type": "code",
   "execution_count": null,
   "id": "c4c18847",
   "metadata": {},
   "outputs": [],
   "source": [
    "import pandas as pd\n",
    "from sklearn.preprocessing import LabelEncoder      #for encoding\n",
    "from sklearn.preprocessing import StandardScaler, MinMaxScaler      #for feature rescaling"
   ]
  },
  {
   "cell_type": "code",
   "execution_count": null,
   "id": "f275e9db",
   "metadata": {},
   "outputs": [],
   "source": [
    "data = {\n",
    "    \"name\" : [\"Pavan\", \"Kapil\", \"Lalit\", \"Ishan\", \"Ansh\"],\n",
    "    \"age\" : [25, None, 44,23,None],\n",
    "    \"salary\" : [50000, 60000, 70000, None, None]\n",
    "}\n",
    "df= pd.DataFrame(data)\n",
    "print(\"Oignial Dataframe\")\n",
    "print(df); print()\n",
    "\n",
    "print(df.isnull().sum()); print()\n",
    "\n",
    "print(df.dropna())\n",
    "\n",
    "df[\"age\"] = df[\"age\"].fillna(df[\"age\"].mean())\n",
    "df[\"salary\"] = df[\"salary\"].fillna(df[\"salary\"].mean())\n",
    "\n",
    "print()\n",
    "print(df)"
   ]
  },
  {
   "cell_type": "code",
   "execution_count": null,
   "id": "3f477083",
   "metadata": {},
   "outputs": [],
   "source": [
    "#Lable encoding\n",
    "df = pd.read_csv(\"scikit1_data.csv\")\n",
    "\n",
    "df_label = df.copy()\n",
    "\n",
    "#Lable encoding\n",
    "le = LabelEncoder()\n",
    "df_label[\"Gender_Encoded\"] = le.fit_transform(df_label[\"Gender\"])\n",
    "df_label[\"Passed_Encoded\"] = le.fit_transform(df_label[\"Passed\"])\n",
    "# print(df_label); print()\n",
    "\n",
    "#One-Hot Encoding\n",
    "df_encoded = pd.get_dummies(df_label, columns = [\"City\"])\n",
    "\n",
    "\n",
    "print(df_encoded)\n"
   ]
  },
  {
   "cell_type": "code",
   "execution_count": null,
   "id": "046e34da",
   "metadata": {},
   "outputs": [],
   "source": [
    "#Converting Cities bool data to int\n",
    "df_encoded[\"City_Bangalore\"] = df_encoded[\"City_Bangalore\"].astype(int)\n",
    "df_encoded[\"City_Chennai\"]   = df_encoded[\"City_Chennai\"].astype(int)\n",
    "df_encoded[\"City_Delhi\"]     = df_encoded[\"City_Delhi\"].astype(int)\n",
    "df_encoded[\"City_Mumbai\"]    = df_encoded[\"City_Mumbai\"].astype(int)\n",
    "\n",
    "print(df_encoded)"
   ]
  },
  {
   "cell_type": "code",
   "execution_count": null,
   "id": "ab512bbf",
   "metadata": {},
   "outputs": [],
   "source": [
    "data = {\n",
    "    \"StudyHours\":[1,2,3,4],\n",
    "    \"TestScore\":[40,50,60,70]\n",
    "}\n",
    "\n",
    "us_df = pd.DataFrame(data)"
   ]
  },
  {
   "cell_type": "code",
   "execution_count": null,
   "id": "7b22d8ca",
   "metadata": {},
   "outputs": [],
   "source": [
    "#Standard Scaling\n"
   ]
  },
  {
   "cell_type": "code",
   "execution_count": null,
   "id": "c7da4c7b",
   "metadata": {},
   "outputs": [],
   "source": []
  },
  {
   "cell_type": "code",
   "execution_count": null,
   "id": "17c8af76",
   "metadata": {},
   "outputs": [],
   "source": []
  }
 ],
 "metadata": {
  "kernelspec": {
   "display_name": "Python 3",
   "language": "python",
   "name": "python3"
  },
  "language_info": {
   "codemirror_mode": {
    "name": "ipython",
    "version": 3
   },
   "file_extension": ".py",
   "mimetype": "text/x-python",
   "name": "python",
   "nbconvert_exporter": "python",
   "pygments_lexer": "ipython3",
   "version": "3.13.4"
  }
 },
 "nbformat": 4,
 "nbformat_minor": 5
}
