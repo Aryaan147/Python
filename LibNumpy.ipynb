{
 "cells": [
  {
   "cell_type": "code",
   "execution_count": 66,
   "id": "5fb61930",
   "metadata": {},
   "outputs": [],
   "source": [
    "import numpy as np"
   ]
  },
  {
   "cell_type": "markdown",
   "id": "f7c20070",
   "metadata": {},
   "source": [
    "## Chapter - 1\n",
    "### Numpy Basics"
   ]
  },
  {
   "cell_type": "code",
   "execution_count": 67,
   "id": "545bed02",
   "metadata": {},
   "outputs": [
    {
     "name": "stdout",
     "output_type": "stream",
     "text": [
      "[[0. 0. 0.]\n",
      " [0. 0. 0.]]\n",
      "\n",
      "[[1. 1. 1.]\n",
      " [1. 1. 1.]]\n",
      "\n",
      "[[7 7 7]\n",
      " [7 7 7]]\n"
     ]
    }
   ],
   "source": [
    "#array with defoult values\n",
    "zeroes_array = np.zeros((2,3))\n",
    "print(zeroes_array)\n",
    "\n",
    "print()\n",
    "\n",
    "#array with all ones\n",
    "ones_array =  np.ones((2,3))\n",
    "print(ones_array)\n",
    "\n",
    "print()\n",
    "\n",
    "#array of a specific value\n",
    "filled_array = np.full((2,3), 7)\n",
    "print(filled_array)"
   ]
  },
  {
   "cell_type": "code",
   "execution_count": 68,
   "id": "13b4049b",
   "metadata": {},
   "outputs": [
    {
     "name": "stdout",
     "output_type": "stream",
     "text": [
      "[0 2 4 6 8]\n"
     ]
    }
   ],
   "source": [
    "#creating sequence of number\n",
    "seq_arr = np.arange(0,10,2)   #(start,stop,step)\n",
    "print(seq_arr)"
   ]
  },
  {
   "cell_type": "code",
   "execution_count": 69,
   "id": "84397a6a",
   "metadata": {},
   "outputs": [
    {
     "name": "stdout",
     "output_type": "stream",
     "text": [
      "[[1. 0. 0.]\n",
      " [0. 1. 0.]\n",
      " [0. 0. 1.]]\n"
     ]
    }
   ],
   "source": [
    "#creating identity matrix\n",
    "I = np.eye(3)\n",
    "print(I)"
   ]
  },
  {
   "cell_type": "markdown",
   "id": "009c9c5b",
   "metadata": {},
   "source": [
    "## Chapter - 2\n",
    "### Array Propetrties & Operations"
   ]
  },
  {
   "cell_type": "code",
   "execution_count": 70,
   "id": "b30d919a",
   "metadata": {},
   "outputs": [
    {
     "name": "stdout",
     "output_type": "stream",
     "text": [
      "[[1 2 3]\n",
      " [4 5 6]\n",
      " [7 8 9]]\n",
      "\n",
      "shape: (3, 3)\n",
      "size: 9\n",
      "no. of dimensions: 2\n",
      "type of values: int64\n",
      "Data type changed to: float64\n"
     ]
    }
   ],
   "source": [
    "arr = np.array([[1,2,3],\n",
    "                [4,5,6],\n",
    "                [7,8,9]])\n",
    "\n",
    "print(arr);   print()\n",
    "print(\"shape:\", arr.shape)\n",
    "print(\"size:\", arr.size)\n",
    "print(\"no. of dimensions:\", arr.ndim)\n",
    "print(\"type of values:\", arr.dtype)\n",
    "arr = arr.astype(float); print(\"Data type changed to:\", arr.dtype)\n"
   ]
  },
  {
   "cell_type": "code",
   "execution_count": 71,
   "id": "2dbda90c",
   "metadata": {},
   "outputs": [
    {
     "name": "stdout",
     "output_type": "stream",
     "text": [
      "45.0\n",
      "5.0\n",
      "1.0\n",
      "9.0\n",
      "2.581988897471611\n",
      "6.666666666666667\n"
     ]
    }
   ],
   "source": [
    "# For maths operation, it just does the operation with each element\n",
    "\n",
    "#In-built operations \n",
    "print(np.sum(arr))    # Total sum of all elements\n",
    "print(np.mean(arr))   # Mean (average) of all elements\n",
    "print(np.min(arr))    # Minimum value\n",
    "print(np.max(arr))    # Maximum value\n",
    "print(np.std(arr))    # Standard deviation\n",
    "print(np.var(arr))    # Variance"
   ]
  },
  {
   "cell_type": "markdown",
   "id": "c94cbb98",
   "metadata": {},
   "source": [
    "## Chapter - 3\n",
    "### Indexing and Slicing "
   ]
  },
  {
   "cell_type": "code",
   "execution_count": 72,
   "id": "83e3f65b",
   "metadata": {},
   "outputs": [
    {
     "name": "stdout",
     "output_type": "stream",
     "text": [
      "[[1. 2. 3.]\n",
      " [4. 5. 6.]\n",
      " [7. 8. 9.]]\n",
      "\n",
      "6.0\n",
      "\n",
      "[[2. 3.]\n",
      " [5. 6.]]\n"
     ]
    }
   ],
   "source": [
    "#Indexing and Slicing\n",
    "print(arr); print()\n",
    "\n",
    "#Indexing \n",
    "print(arr[1, 2])\n",
    "\n",
    "print()\n",
    "\n",
    "#Slicing\n",
    "print(arr[0:2, 1:]) #row 0-1, column 1-end"
   ]
  },
  {
   "cell_type": "code",
   "execution_count": 73,
   "id": "f89289fa",
   "metadata": {},
   "outputs": [
    {
     "name": "stdout",
     "output_type": "stream",
     "text": [
      "[2. 4. 6. 8.]\n"
     ]
    }
   ],
   "source": [
    "#boolean maskong\n",
    "print(arr[arr%2 == 0])"
   ]
  },
  {
   "cell_type": "code",
   "execution_count": 74,
   "id": "f51b2adc",
   "metadata": {},
   "outputs": [
    {
     "name": "stdout",
     "output_type": "stream",
     "text": [
      "[[1 2]\n",
      " [3 4]\n",
      " [5 6]]\n",
      "[1 2 3 4 5 6]\n"
     ]
    }
   ],
   "source": [
    "#Reshaping\n",
    "arr1D = np.array([1,2,3,4,5,6])\n",
    "\n",
    "print(arr1D.reshape(3,2))\n",
    "\n",
    "print(arr1D)"
   ]
  },
  {
   "cell_type": "code",
   "execution_count": 75,
   "id": "8d588491",
   "metadata": {},
   "outputs": [
    {
     "name": "stdout",
     "output_type": "stream",
     "text": [
      "[[99  2]\n",
      " [ 3  4]]\n",
      "[[99  2]\n",
      " [ 3  4]]\n"
     ]
    }
   ],
   "source": [
    "a = np.array([[1, 2], [3, 4]])\n",
    "\n",
    "# ravel returns a view\n",
    "r = np.ravel(a)\n",
    "r[0] = 99\n",
    "print(a)  # Original array is modified\n",
    "\n",
    "# flatten returns a copy\n",
    "f = a.flatten()\n",
    "f[0] = 42\n",
    "print(a)  # Original array remains unchanged\n"
   ]
  },
  {
   "cell_type": "markdown",
   "id": "9ec473f8",
   "metadata": {},
   "source": [
    "## Chapter - 4\n",
    "### Reshaping & Manupulating Arrays"
   ]
  },
  {
   "cell_type": "code",
   "execution_count": 76,
   "id": "3441478d",
   "metadata": {},
   "outputs": [
    {
     "name": "stdout",
     "output_type": "stream",
     "text": [
      "[[1. 2. 3.]\n",
      " [4. 5. 6.]\n",
      " [7. 8. 9.]]\n",
      "\n",
      "[[ 1.  2.  3.]\n",
      " [ 4.  5.  6.]\n",
      " [ 7.  8.  9.]\n",
      " [10. 11. 12.]]\n",
      "\n",
      "[[ 1.  2.  3.  4.]\n",
      " [ 4.  5.  6.  7.]\n",
      " [ 7.  8.  9. 10.]]\n"
     ]
    }
   ],
   "source": [
    "# Insert\n",
    "print(arr); print()\n",
    "\n",
    "insert_by_row = np.insert(arr, 3, [10,11,12], 0); print(insert_by_row); print()\n",
    "\n",
    "insert_by_column = np.insert(arr, 3, [4,7,10], 1); print(insert_by_column)"
   ]
  },
  {
   "cell_type": "code",
   "execution_count": 77,
   "id": "a4a9cb81",
   "metadata": {},
   "outputs": [
    {
     "name": "stdout",
     "output_type": "stream",
     "text": [
      "[[1 2 3]\n",
      " [4 5 6]\n",
      " [7 8 9]]\n"
     ]
    }
   ],
   "source": [
    "#Concatenate\n",
    "a = np.array([[1,2,3],\n",
    "             [4,5,6]])\n",
    "b = np.array([[7,8,9]])     #make sure the no. of dimensions are same\n",
    "c = np.concatenate((a,b), axis = 0); print(c)"
   ]
  },
  {
   "cell_type": "code",
   "execution_count": 78,
   "id": "d7dfe212",
   "metadata": {},
   "outputs": [
    {
     "name": "stdout",
     "output_type": "stream",
     "text": [
      "[[ 1  2  3  4]\n",
      " [ 4  5  6  7]\n",
      " [ 7  8  9 10]]\n",
      "\n",
      "[[1 2 3]\n",
      " [4 5 6]\n",
      " [7 8 9]]\n"
     ]
    }
   ],
   "source": [
    "#delete\n",
    "arr_del = np.array([[1,2,3,4],[4,5,6,7],[7,8,9,10]])\n",
    "print(arr_del); print()\n",
    "\n",
    "\n",
    "arr_del = np.delete(arr_del, 3, axis = 1);   print(arr_del)"
   ]
  },
  {
   "cell_type": "code",
   "execution_count": 79,
   "id": "eab7b90c",
   "metadata": {},
   "outputs": [
    {
     "name": "stdout",
     "output_type": "stream",
     "text": [
      "[[1 2 3]\n",
      " [4 5 6]]\n",
      "\n",
      "[[ 7  8  9]\n",
      " [10 11 12]]\n",
      "\n",
      "[[ 1  2  3]\n",
      " [ 4  5  6]\n",
      " [ 7  8  9]\n",
      " [10 11 12]]\n",
      "\n",
      "[[ 1  2  3  7  8  9]\n",
      " [ 4  5  6 10 11 12]]\n"
     ]
    }
   ],
   "source": [
    "#stack\n",
    "\n",
    "a = np.array([[1,2,3],\n",
    "             [4,5,6]]);    print(a); print()\n",
    "b = np.array([[7,8,9],\n",
    "             [10,11,12]]);    print(b); print()\n",
    "\n",
    "vert_stack = np.vstack((a,b)); print(vert_stack); print()\n",
    "hozt_stack = np.hstack((a,b)); print(hozt_stack)"
   ]
  },
  {
   "cell_type": "code",
   "execution_count": 80,
   "id": "0c5fa227",
   "metadata": {},
   "outputs": [
    {
     "name": "stdout",
     "output_type": "stream",
     "text": [
      "Split c part 1:\n",
      " [[1 2 3]\n",
      " [4 5 6]]\n",
      "Split c part 2:\n",
      " [[7 8 9]]\n"
     ]
    },
    {
     "data": {
      "text/plain": [
       "[array([[1, 2],\n",
       "        [5, 6]]),\n",
       " array([[3, 4],\n",
       "        [7, 8]])]"
      ]
     },
     "execution_count": 80,
     "metadata": {},
     "output_type": "execute_result"
    }
   ],
   "source": [
    "#Split\n",
    "split_c = np.array_split(c, 2, axis=0)\n",
    "\n",
    "print(\"Split c part 1:\\n\", split_c[0])\n",
    "print(\"Split c part 2:\\n\", split_c[1])\n",
    "\n",
    "\n",
    "\n",
    "\n",
    "\n",
    "\n",
    "a = np.array([[1, 2, 3],\n",
    "              [4, 5, 6],\n",
    "              [7, 8, 9],\n",
    "              [10, 11, 12]])\n",
    "\n",
    "# Split into 2 row blocks\n",
    "np.vsplit(a, 2)\n",
    "\n",
    "\n",
    "\n",
    "\n",
    "b = np.array([[1, 2, 3, 4],\n",
    "              [5, 6, 7, 8]])\n",
    "\n",
    "# Split into 2 column blocks\n",
    "np.hsplit(b, 2)\n",
    "\n"
   ]
  },
  {
   "cell_type": "markdown",
   "id": "d5db3e61",
   "metadata": {},
   "source": [
    "## Chapter - 5\n",
    "### Broadcasting & Vectorizaion"
   ]
  },
  {
   "cell_type": "code",
   "execution_count": 81,
   "id": "efc58a9c",
   "metadata": {},
   "outputs": [
    {
     "name": "stdout",
     "output_type": "stream",
     "text": [
      "[ 90. 180. 270.]\n"
     ]
    }
   ],
   "source": [
    "prices = np.array([100,200,300])\n",
    "discount = 10\n",
    "final_price = prices - (prices*discount/100)\n",
    "print(final_price)"
   ]
  },
  {
   "cell_type": "code",
   "execution_count": 82,
   "id": "77e0d648",
   "metadata": {},
   "outputs": [
    {
     "name": "stdout",
     "output_type": "stream",
     "text": [
      "Element-wise Multiplication:\n",
      " [[ 10  40  90]\n",
      " [ 40 100 180]] \n",
      "\n",
      "\n",
      "Element-wise Addition:\n",
      " [[11 22 33]\n",
      " [14 25 36]] \n",
      "\n",
      "\n",
      "Element-wise Subtraction:\n",
      " [[ -9 -18 -27]\n",
      " [ -6 -15 -24]] \n",
      "\n",
      "\n",
      "Element-wise Division:\n",
      " [[0.1  0.1  0.1 ]\n",
      " [0.4  0.25 0.2 ]] \n",
      "\n",
      "\n",
      "Element-wise Power:\n",
      " [[                  1             1048576     205891132094649]\n",
      " [            1048576      95367431640625 8138741398091333632]] \n",
      "\n",
      "\n"
     ]
    }
   ],
   "source": [
    "#Matrix and Vector Operations\n",
    "matrix = np.array([[1,2,3],\n",
    "                   [4,5,6]])\n",
    "\n",
    "vector = np.array([10,20,30])\n",
    "\n",
    "print(\"Element-wise Multiplication:\\n\", matrix * vector, \"\\n\"); print()\n",
    "print(\"Element-wise Addition:\\n\", matrix + vector, \"\\n\"); print()\n",
    "print(\"Element-wise Subtraction:\\n\", matrix - vector, \"\\n\"); print()\n",
    "print(\"Element-wise Division:\\n\", matrix / vector, \"\\n\"); print()\n",
    "print(\"Element-wise Power:\\n\", matrix ** vector, \"\\n\"); print()"
   ]
  },
  {
   "cell_type": "markdown",
   "id": "20f79c88",
   "metadata": {},
   "source": [
    "## Chapter - 6\n",
    "### Handling Missing & Special Values"
   ]
  },
  {
   "cell_type": "code",
   "execution_count": 83,
   "id": "885dccc9",
   "metadata": {},
   "outputs": [
    {
     "name": "stdout",
     "output_type": "stream",
     "text": [
      "[False False False  True False False  True False False False False  True\n",
      " False]\n"
     ]
    }
   ],
   "source": [
    "# nan = not a number\n",
    "arr = np.array([1, 2, 3, np.nan, 5, 6, np.nan, 7, 8, 9, 10, np.nan, 12])\n",
    "print(np.isnan(arr))"
   ]
  },
  {
   "cell_type": "code",
   "execution_count": 84,
   "id": "f98106bd",
   "metadata": {},
   "outputs": [
    {
     "name": "stdout",
     "output_type": "stream",
     "text": [
      "[  1.   2.   3. 100.   5.   6. 100.   7.   8.   9.  10. 100.  12.]\n"
     ]
    }
   ],
   "source": [
    "#Cleaning / replacing nan\n",
    "arr = np.array([1, 2, 3, np.nan, 5, 6, np.nan, 7, 8, 9, 10, np.nan, 12])\n",
    "cleaned_arr = np.nan_to_num(arr, nan = 100)\n",
    "print(cleaned_arr)"
   ]
  },
  {
   "cell_type": "code",
   "execution_count": 92,
   "id": "79709fa1",
   "metadata": {},
   "outputs": [
    {
     "name": "stdout",
     "output_type": "stream",
     "text": [
      "[False False False  True False  True]\n",
      "\n",
      "[    1.     2.     3.  1000.     5. -1000.]\n"
     ]
    }
   ],
   "source": [
    "arr = np.array([1, 2, 3, np.inf, 5, -np.inf])\n",
    "print(np.isinf(arr)); print()\n",
    "cleaned_arr = np.nan_to_num(arr, posinf = 1000, neginf = -1000)\n",
    "print(cleaned_arr)"
   ]
  },
  {
   "cell_type": "code",
   "execution_count": null,
   "id": "aaa51af1",
   "metadata": {},
   "outputs": [],
   "source": []
  },
  {
   "cell_type": "code",
   "execution_count": null,
   "id": "251bdcf4",
   "metadata": {},
   "outputs": [],
   "source": []
  },
  {
   "cell_type": "code",
   "execution_count": null,
   "id": "6ba7daf8",
   "metadata": {},
   "outputs": [],
   "source": []
  },
  {
   "cell_type": "code",
   "execution_count": null,
   "id": "26422002",
   "metadata": {},
   "outputs": [],
   "source": []
  },
  {
   "cell_type": "markdown",
   "id": "72b47817",
   "metadata": {},
   "source": [
    "# More"
   ]
  },
  {
   "cell_type": "code",
   "execution_count": null,
   "id": "1cd04caa",
   "metadata": {},
   "outputs": [
    {
     "name": "stdout",
     "output_type": "stream",
     "text": [
      "2\n",
      "(2, 3)\n"
     ]
    }
   ],
   "source": [
    "arr = np.array([[1,2,3], [4,5,6]])\n",
    "print(arr.ndim)   #inbuilt function to check no. of dimension\n",
    "print(arr.shape)  #No. of rows and columns"
   ]
  },
  {
   "cell_type": "code",
   "execution_count": null,
   "id": "fc412c28",
   "metadata": {},
   "outputs": [
    {
     "name": "stdout",
     "output_type": "stream",
     "text": [
      "[0 2 4 6 8]\n"
     ]
    }
   ],
   "source": [
    "range = np.arange(0, 10, 2) #start, stop, step\n",
    "print(range)"
   ]
  },
  {
   "cell_type": "code",
   "execution_count": null,
   "id": "f3e3b254",
   "metadata": {},
   "outputs": [
    {
     "name": "stdout",
     "output_type": "stream",
     "text": [
      "[0.         0.55555556 1.11111111 1.66666667 2.22222222 2.77777778\n",
      " 3.33333333 3.88888889 4.44444444 5.        ]\n"
     ]
    }
   ],
   "source": [
    "arr = np.linspace(0,5,10) #start, stop, no. of values\n",
    "print(arr)"
   ]
  },
  {
   "cell_type": "code",
   "execution_count": null,
   "id": "ef2daef4",
   "metadata": {},
   "outputs": [
    {
     "name": "stdout",
     "output_type": "stream",
     "text": [
      "[  10.  100. 1000.]\n"
     ]
    }
   ],
   "source": [
    "arr = np.logspace(1,3,3)\n",
    "#start,stop ->powers,vales ->No. of vlaue in logarithmic space\n",
    "print(arr)"
   ]
  },
  {
   "cell_type": "code",
   "execution_count": null,
   "id": "4fd8a1d5",
   "metadata": {},
   "outputs": [
    {
     "name": "stdout",
     "output_type": "stream",
     "text": [
      "[[0. 0. 0.]\n",
      " [0. 0. 0.]]\n"
     ]
    }
   ],
   "source": [
    "arr = np.zeros([2,3])\n",
    "print(arr)"
   ]
  },
  {
   "cell_type": "code",
   "execution_count": null,
   "id": "4bad49af",
   "metadata": {},
   "outputs": [
    {
     "name": "stdout",
     "output_type": "stream",
     "text": [
      "[[1 1 1]\n",
      " [1 1 1]]\n"
     ]
    }
   ],
   "source": [
    "arr = np.ones([2,3], dtype = int)\n",
    "print(arr)"
   ]
  },
  {
   "cell_type": "code",
   "execution_count": null,
   "id": "d55c7929",
   "metadata": {},
   "outputs": [
    {
     "name": "stdout",
     "output_type": "stream",
     "text": [
      "[[7 7 7]\n",
      " [7 7 7]]\n"
     ]
    }
   ],
   "source": [
    "arr = np.full([2,3],7) #[row, column], default value\n",
    "print(arr)"
   ]
  },
  {
   "cell_type": "code",
   "execution_count": null,
   "id": "68a8dee4",
   "metadata": {},
   "outputs": [
    {
     "name": "stdout",
     "output_type": "stream",
     "text": [
      "[[5.e-324 5.e-324 5.e-324]\n",
      " [5.e-324 5.e-324 5.e-324]]\n"
     ]
    }
   ],
   "source": [
    "arr = np.empty([2,3])\n",
    "print(arr)"
   ]
  },
  {
   "cell_type": "code",
   "execution_count": null,
   "id": "6242c831",
   "metadata": {},
   "outputs": [
    {
     "data": {
      "text/plain": [
       "array([[0.08853961, 0.29082212, 0.11039362],\n",
       "       [0.15292104, 0.82307818, 0.17596973]])"
      ]
     },
     "execution_count": 28,
     "metadata": {},
     "output_type": "execute_result"
    }
   ],
   "source": [
    "arr = np.random.rand(2,3)\n",
    "#no square brackets bcz its not taking any vlaues or any third parameter\n",
    "arr"
   ]
  },
  {
   "cell_type": "code",
   "execution_count": null,
   "id": "e88a8335",
   "metadata": {},
   "outputs": [],
   "source": [
    "arr = np.random.randn() \n",
    "#generates random samples from a normal distribution with mean 0 and standard deviation 1\n"
   ]
  },
  {
   "cell_type": "code",
   "execution_count": null,
   "id": "b949c674",
   "metadata": {},
   "outputs": [
    {
     "data": {
      "text/plain": [
       "array([[72, 78, 47],\n",
       "       [29, 11, 31]], dtype=int32)"
      ]
     },
     "execution_count": 30,
     "metadata": {},
     "output_type": "execute_result"
    }
   ],
   "source": [
    "arr = np.random.randint(10, 100, [2,3]) #start, stop, dimension/no. of values\n",
    "arr"
   ]
  },
  {
   "cell_type": "markdown",
   "id": "8491788d",
   "metadata": {},
   "source": [
    "## NumPy Data Types and Type Casting"
   ]
  },
  {
   "cell_type": "code",
   "execution_count": null,
   "id": "737d223a",
   "metadata": {},
   "outputs": [
    {
     "data": {
      "text/plain": [
       "array([[1, 2, 3],\n",
       "       [4, 5, 6]])"
      ]
     },
     "execution_count": 31,
     "metadata": {},
     "output_type": "execute_result"
    }
   ],
   "source": [
    "arr = np.array([[1,2,3],[4,5,6]])\n",
    "arr"
   ]
  },
  {
   "cell_type": "code",
   "execution_count": null,
   "id": "05ff0f44",
   "metadata": {},
   "outputs": [
    {
     "data": {
      "text/plain": [
       "array(['string', '1', '2', '3.2'], dtype='<U32')"
      ]
     },
     "execution_count": 32,
     "metadata": {},
     "output_type": "execute_result"
    }
   ],
   "source": [
    "lst = [\"string\", 1, 2, 3.2]\n",
    "lst = np.array(lst)\n",
    "lst"
   ]
  },
  {
   "cell_type": "code",
   "execution_count": null,
   "id": "9e2cd949",
   "metadata": {},
   "outputs": [
    {
     "data": {
      "text/plain": [
       "array([1., 2., 3., 4.], dtype=float32)"
      ]
     },
     "execution_count": 33,
     "metadata": {},
     "output_type": "execute_result"
    }
   ],
   "source": [
    "arr = np.array([1,2,3,4], dtype = np.float32)\n",
    "arr"
   ]
  },
  {
   "cell_type": "code",
   "execution_count": null,
   "id": "3f394927",
   "metadata": {},
   "outputs": [
    {
     "name": "stdout",
     "output_type": "stream",
     "text": [
      "int64\n",
      "[1. 2. 3.]\n",
      "float64\n"
     ]
    }
   ],
   "source": [
    "#Type Casting\n",
    "arr = np.array([1,2,3])\n",
    "print(arr.dtype)\n",
    "new_arr = arr.astype(np.float64)\n",
    "print(new_arr)\n",
    "print(new_arr.dtype)"
   ]
  },
  {
   "cell_type": "code",
   "execution_count": null,
   "id": "d2e53ace",
   "metadata": {},
   "outputs": [
    {
     "data": {
      "text/plain": [
       "array([[1, 2, 3],\n",
       "       [4, 5, 6]])"
      ]
     },
     "execution_count": 35,
     "metadata": {},
     "output_type": "execute_result"
    }
   ],
   "source": [
    "arr = np.array([1,2,3,4,5,6])\n",
    "arr = arr.reshape(2,3)\n",
    "arr"
   ]
  },
  {
   "cell_type": "code",
   "execution_count": null,
   "id": "54e41758",
   "metadata": {},
   "outputs": [
    {
     "data": {
      "text/plain": [
       "array([1, 2, 3, 4, 5, 6])"
      ]
     },
     "execution_count": 36,
     "metadata": {},
     "output_type": "execute_result"
    }
   ],
   "source": [
    "arr = arr.flatten()\n",
    "arr"
   ]
  },
  {
   "cell_type": "code",
   "execution_count": null,
   "id": "d644d921",
   "metadata": {},
   "outputs": [
    {
     "name": "stdout",
     "output_type": "stream",
     "text": [
      "[[1 2 3]\n",
      " [4 5 6]]\n",
      "[1 2 3 4 5 6]\n"
     ]
    }
   ],
   "source": [
    "arr = arr.reshape(2,3); print(arr)\n",
    "arr = arr.ravel() #unlike flatten() it also changes the original array (it does not copy)\n",
    "print(arr)"
   ]
  },
  {
   "cell_type": "markdown",
   "id": "fe1ebed3",
   "metadata": {},
   "source": [
    "# Arthmetic Operations on Array"
   ]
  },
  {
   "cell_type": "code",
   "execution_count": null,
   "id": "27a37fa8",
   "metadata": {},
   "outputs": [
    {
     "name": "stdout",
     "output_type": "stream",
     "text": [
      "[1 2 3 4] [5 6 7 8]\n"
     ]
    }
   ],
   "source": [
    "a = np.array([1,2,3,4])\n",
    "b = np.array([5,6,7,8])\n",
    "print(a,b)"
   ]
  },
  {
   "cell_type": "code",
   "execution_count": null,
   "id": "128ed5f1",
   "metadata": {},
   "outputs": [
    {
     "name": "stdout",
     "output_type": "stream",
     "text": [
      "[ 6  8 10 12]\n",
      "[4 4 4 4]\n",
      "[ 5 12 21 32]\n",
      "[5.         3.         2.33333333 2.        ]\n",
      "[ 5 12 21 32]\n",
      "[   5   36  343 4096]\n",
      "[0 0 1 0]\n"
     ]
    }
   ],
   "source": [
    "print(a+b)\n",
    "print(b-a)\n",
    "print(b*a)\n",
    "print(b/a)\n",
    "print(b*a)\n",
    "print(b**a)\n",
    "print(b%a)"
   ]
  },
  {
   "cell_type": "markdown",
   "id": "298d7526",
   "metadata": {},
   "source": [
    "# Universal Functions"
   ]
  },
  {
   "cell_type": "code",
   "execution_count": null,
   "id": "f3df86e8",
   "metadata": {},
   "outputs": [
    {
     "name": "stdout",
     "output_type": "stream",
     "text": [
      "[ 1  4  9 16]\n",
      "[1. 2. 3. 4.]\n"
     ]
    }
   ],
   "source": [
    "arr = np.array([1,4,9,16]); print(arr)\n",
    "arr = np.sqrt(arr)\n",
    "print(arr)\n",
    "\n",
    "\n",
    "arr = np.array(arr,dtype=int)"
   ]
  },
  {
   "cell_type": "code",
   "execution_count": null,
   "id": "4ed7d67a",
   "metadata": {},
   "outputs": [
    {
     "data": {
      "text/plain": [
       "array([2.71828183, 7.3890561 ])"
      ]
     },
     "execution_count": 41,
     "metadata": {},
     "output_type": "execute_result"
    }
   ],
   "source": [
    "np.exp([1,2])   #e^1, e^2"
   ]
  },
  {
   "cell_type": "code",
   "execution_count": null,
   "id": "c091f99e",
   "metadata": {},
   "outputs": [
    {
     "data": {
      "text/plain": [
       "array([0.0000000e+00, 1.2246468e-16, 1.0000000e+00])"
      ]
     },
     "execution_count": 42,
     "metadata": {},
     "output_type": "execute_result"
    }
   ],
   "source": [
    "angles = np.array([0, np.pi, np.pi/2])\n",
    "np.sin(angles)"
   ]
  },
  {
   "cell_type": "code",
   "execution_count": null,
   "id": "80473ba0",
   "metadata": {},
   "outputs": [
    {
     "name": "stdout",
     "output_type": "stream",
     "text": [
      "[1 2 3 4]\n",
      "[4 3 2]\n",
      "[2 4]\n"
     ]
    }
   ],
   "source": [
    "print(arr)\n",
    "print(arr[-1:-4:-1])\n",
    "print(arr[1::2])"
   ]
  },
  {
   "cell_type": "code",
   "execution_count": null,
   "id": "c827b4fa",
   "metadata": {},
   "outputs": [
    {
     "name": "stdout",
     "output_type": "stream",
     "text": [
      "[[1 2]\n",
      " [4 5]]\n"
     ]
    }
   ],
   "source": [
    "matrix = np.array([[1,2,3],\n",
    "                   [4,5,6],\n",
    "                   [7,8,9]])\n",
    "\n",
    "print(matrix[0:2, 0:2])   #rows slicing, column slicing"
   ]
  },
  {
   "cell_type": "code",
   "execution_count": null,
   "id": "05d7753a",
   "metadata": {},
   "outputs": [
    {
     "name": "stdout",
     "output_type": "stream",
     "text": [
      "[[[3 2]\n",
      "  [1 3]]\n",
      "\n",
      " [[6 5]\n",
      "  [4 6]]\n",
      "\n",
      " [[9 8]\n",
      "  [7 9]]]\n"
     ]
    }
   ],
   "source": [
    "indices = np.array([[2, 1], [0, 2]])\n",
    "print(np.take(matrix, indices, axis=1))"
   ]
  },
  {
   "cell_type": "code",
   "execution_count": null,
   "id": "8d6f6908",
   "metadata": {},
   "outputs": [
    {
     "name": "stdout",
     "output_type": "stream",
     "text": [
      "[1 2 3] [4 5 6] [7 8 9] \n",
      "1 2 3 4 5 6 7 8 9 "
     ]
    }
   ],
   "source": [
    "for x in matrix:\n",
    "    print(x, end = \" \")\n",
    "\n",
    "print()\n",
    "\n",
    "for x in np.nditer(matrix):\n",
    "    print(x, end = \" \")\n"
   ]
  },
  {
   "cell_type": "code",
   "execution_count": null,
   "id": "6dc1efb4",
   "metadata": {},
   "outputs": [
    {
     "name": "stdout",
     "output_type": "stream",
     "text": [
      "(0, 0) 1\n",
      "(0, 1) 2\n",
      "(0, 2) 3\n",
      "(1, 0) 4\n",
      "(1, 1) 5\n",
      "(1, 2) 6\n",
      "(2, 0) 7\n",
      "(2, 1) 8\n",
      "(2, 2) 9\n"
     ]
    }
   ],
   "source": [
    "for idx, val in np.ndenumerate(matrix):\n",
    "    print(idx, val)"
   ]
  },
  {
   "cell_type": "code",
   "execution_count": null,
   "id": "f9ecdb50",
   "metadata": {},
   "outputs": [
    {
     "name": "stdout",
     "output_type": "stream",
     "text": [
      "[1 2 3 4]\n",
      "[2 3]\n",
      "[20  3]\n",
      "[ 1 20  3  4]\n"
     ]
    }
   ],
   "source": [
    "#view\n",
    "print(arr)\n",
    "view = arr[1:3]; print(view)\n",
    "view[0] = 20; print(view)\n",
    "print(arr)"
   ]
  },
  {
   "cell_type": "code",
   "execution_count": null,
   "id": "f43bb0db",
   "metadata": {},
   "outputs": [
    {
     "name": "stdout",
     "output_type": "stream",
     "text": [
      "[ 1 20  3]\n",
      "[10 20  3]\n",
      "[ 1 20  3  4]\n"
     ]
    }
   ],
   "source": [
    "#copy\n",
    "copy = arr[0:3].copy() ; print(copy)\n",
    "copy[0]= 10; print(copy)\n",
    "print(arr)"
   ]
  },
  {
   "cell_type": "code",
   "execution_count": null,
   "id": "ea9f446e",
   "metadata": {},
   "outputs": [
    {
     "data": {
      "text/plain": [
       "array([[1, 4, 7],\n",
       "       [2, 5, 8],\n",
       "       [3, 6, 9]])"
      ]
     },
     "execution_count": 50,
     "metadata": {},
     "output_type": "execute_result"
    }
   ],
   "source": [
    "matrix.transpose()"
   ]
  },
  {
   "cell_type": "code",
   "execution_count": null,
   "id": "0bb4cd55",
   "metadata": {},
   "outputs": [
    {
     "name": "stdout",
     "output_type": "stream",
     "text": [
      "[[1 4 7]\n",
      " [2 5 8]\n",
      " [3 6 9]]\n",
      "\n",
      "[[[1 5]\n",
      "  [3 7]]\n",
      "\n",
      " [[2 6]\n",
      "  [4 8]]]\n"
     ]
    }
   ],
   "source": [
    "print(np.swapaxes(matrix,0,1))\n",
    "print()\n",
    "\n",
    "mt = np.array([[[1,2],[3,4]],\n",
    "               [[5,6],[7,8]]])\n",
    "print(np.swapaxes(mt,0,2))"
   ]
  },
  {
   "cell_type": "code",
   "execution_count": null,
   "id": "8bf872f2",
   "metadata": {},
   "outputs": [
    {
     "name": "stdout",
     "output_type": "stream",
     "text": [
      "[1 2 3 4]\n",
      "[5 6 7 8]\n",
      "\n",
      "[1 2 3 4 5 6 7 8]\n"
     ]
    }
   ],
   "source": [
    "#Concatination\n",
    "print(a)\n",
    "print(b)\n",
    "\n",
    "print()\n",
    "\n",
    "ct = np.concatenate((a,b))\n",
    "print(ct)"
   ]
  },
  {
   "cell_type": "code",
   "execution_count": null,
   "id": "356a3760",
   "metadata": {},
   "outputs": [
    {
     "name": "stdout",
     "output_type": "stream",
     "text": [
      "[[1 2]\n",
      " [3 4]\n",
      " [5 6]\n",
      " [7 8]]\n",
      "\n",
      "[[1 2 5 6]\n",
      " [3 4 7 8]]\n"
     ]
    }
   ],
   "source": [
    "arr1 = np.array([[1,2],[3,4]])\n",
    "arr2 = np.array([[5,6],[7,8]])\n",
    "\n",
    "v = np.vstack((arr1, arr2)); print(v)\n",
    "print()\n",
    "h = np.hstack((arr1, arr2)); print(h)"
   ]
  },
  {
   "cell_type": "code",
   "execution_count": null,
   "id": "9391547f",
   "metadata": {},
   "outputs": [
    {
     "data": {
      "text/plain": [
       "[array([[1, 2, 3]]), array([[4, 5, 6]]), array([[7, 8, 9]])]"
      ]
     },
     "execution_count": 54,
     "metadata": {},
     "output_type": "execute_result"
    }
   ],
   "source": [
    "np.split(matrix, 3)"
   ]
  },
  {
   "cell_type": "code",
   "execution_count": null,
   "id": "f1511ae4",
   "metadata": {},
   "outputs": [
    {
     "data": {
      "text/plain": [
       "[array([[1],\n",
       "        [4],\n",
       "        [7]]),\n",
       " array([[2],\n",
       "        [5],\n",
       "        [8]]),\n",
       " array([[3],\n",
       "        [6],\n",
       "        [9]])]"
      ]
     },
     "execution_count": 55,
     "metadata": {},
     "output_type": "execute_result"
    }
   ],
   "source": [
    "np.hsplit(matrix, 3)"
   ]
  },
  {
   "cell_type": "code",
   "execution_count": null,
   "id": "1976018f",
   "metadata": {},
   "outputs": [
    {
     "data": {
      "text/plain": [
       "[array([[1, 2, 3]]), array([[4, 5, 6]]), array([[7, 8, 9]])]"
      ]
     },
     "execution_count": 56,
     "metadata": {},
     "output_type": "execute_result"
    }
   ],
   "source": [
    "np.vsplit(matrix, 3)"
   ]
  },
  {
   "cell_type": "code",
   "execution_count": null,
   "id": "95fecd4f",
   "metadata": {},
   "outputs": [
    {
     "data": {
      "text/plain": [
       "array([[1, 2, 3, 1, 2, 3],\n",
       "       [4, 5, 6, 4, 5, 6],\n",
       "       [7, 8, 9, 7, 8, 9]])"
      ]
     },
     "execution_count": 57,
     "metadata": {},
     "output_type": "execute_result"
    }
   ],
   "source": [
    "np.tile(matrix,2)"
   ]
  },
  {
   "cell_type": "code",
   "execution_count": null,
   "id": "df3b6fce",
   "metadata": {},
   "outputs": [
    {
     "name": "stdout",
     "output_type": "stream",
     "text": [
      "[ 1 20  3  4]\n",
      "\n",
      "28\n",
      "7.0\n",
      "3.5\n",
      "7.582875444051551\n",
      "20\n",
      "1\n",
      "[ 1 21 24 28]\n"
     ]
    }
   ],
   "source": [
    "print(arr)\n",
    "print()\n",
    "\n",
    "print(np.sum(arr))\n",
    "print(np.mean(arr))\n",
    "print(np.median(arr))\n",
    "print(np.std(arr))\n",
    "print(np.max(arr))\n",
    "print(np.min(arr))\n",
    "print(np.cumsum(arr))  #prints running total"
   ]
  },
  {
   "cell_type": "code",
   "execution_count": null,
   "id": "54a58ee7",
   "metadata": {},
   "outputs": [
    {
     "name": "stdout",
     "output_type": "stream",
     "text": [
      "[[1 2 3]\n",
      " [4 5 6]\n",
      " [7 8 9]]\n",
      "\n",
      "[12 15 18]\n",
      "\n",
      "[ 6 15 24]\n"
     ]
    }
   ],
   "source": [
    "print(matrix)\n",
    "print()\n",
    "print(np.sum(matrix, axis = 0))\n",
    "print()\n",
    "print(np.sum(matrix, axis = 1))"
   ]
  },
  {
   "cell_type": "code",
   "execution_count": null,
   "id": "50d40ff9",
   "metadata": {},
   "outputs": [
    {
     "name": "stdout",
     "output_type": "stream",
     "text": [
      "[[1 2 3]\n",
      " [4 5 6]\n",
      " [7 8 9]]\n",
      "\n",
      "[['odd' 'even' 'odd']\n",
      " ['even' 'odd' 'even']\n",
      " ['odd' 'even' 'odd']]\n"
     ]
    }
   ],
   "source": [
    "#where\n",
    "hl = np.where(matrix %2 == 0, \"even\", \"odd\")\n",
    "\n",
    "print(matrix)\n",
    "print()\n",
    "print(hl)"
   ]
  },
  {
   "cell_type": "code",
   "execution_count": null,
   "id": "b578edec",
   "metadata": {},
   "outputs": [],
   "source": []
  },
  {
   "cell_type": "code",
   "execution_count": null,
   "id": "afca4723",
   "metadata": {},
   "outputs": [],
   "source": []
  },
  {
   "cell_type": "code",
   "execution_count": null,
   "id": "cd10abac",
   "metadata": {},
   "outputs": [],
   "source": []
  },
  {
   "cell_type": "code",
   "execution_count": null,
   "id": "bfdcfb49",
   "metadata": {},
   "outputs": [],
   "source": []
  },
  {
   "cell_type": "code",
   "execution_count": null,
   "id": "e4bf2f19",
   "metadata": {},
   "outputs": [],
   "source": []
  },
  {
   "cell_type": "code",
   "execution_count": null,
   "id": "03ba2d35",
   "metadata": {},
   "outputs": [],
   "source": []
  },
  {
   "cell_type": "code",
   "execution_count": null,
   "id": "f49253a9",
   "metadata": {},
   "outputs": [],
   "source": []
  },
  {
   "cell_type": "code",
   "execution_count": null,
   "id": "af75f709",
   "metadata": {},
   "outputs": [],
   "source": []
  },
  {
   "cell_type": "code",
   "execution_count": null,
   "id": "8b723f81",
   "metadata": {},
   "outputs": [],
   "source": []
  }
 ],
 "metadata": {
  "kernelspec": {
   "display_name": ".venv",
   "language": "python",
   "name": "python3"
  },
  "language_info": {
   "codemirror_mode": {
    "name": "ipython",
    "version": 3
   },
   "file_extension": ".py",
   "mimetype": "text/x-python",
   "name": "python",
   "nbconvert_exporter": "python",
   "pygments_lexer": "ipython3",
   "version": "3.13.4"
  }
 },
 "nbformat": 4,
 "nbformat_minor": 5
}
