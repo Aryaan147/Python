{
 "cells": [
  {
   "cell_type": "code",
   "execution_count": null,
   "id": "c4c18847",
   "metadata": {},
   "outputs": [],
   "source": [
    "import pandas as pd\n",
    "from sklearn.preprocessing import LabelEncoder"
   ]
  },
  {
   "cell_type": "code",
   "execution_count": null,
   "id": "f275e9db",
   "metadata": {},
   "outputs": [],
   "source": [
    "data = {\n",
    "    \"name\" : [\"Pavan\", \"Kapil\", \"Lalit\", \"Ishan\", \"Ansh\"],\n",
    "    \"age\" : [25, None, 44,23,None],\n",
    "    \"salary\" : [50000, 60000, 70000, None, None]\n",
    "}\n",
    "df= pd.DataFrame(data)\n",
    "print(\"Oignial Dataframe\")\n",
    "print(df); print()\n",
    "\n",
    "print(df.isnull().sum()); print()\n",
    "\n",
    "print(df.dropna())\n",
    "\n",
    "df[\"age\"] = df[\"age\"].fillna(df[\"age\"].mean())\n",
    "df[\"salary\"] = df[\"salary\"].fillna(df[\"salary\"].mean())\n",
    "\n",
    "print()\n",
    "print(df)"
   ]
  },
  {
   "cell_type": "code",
   "execution_count": null,
   "id": "3f477083",
   "metadata": {},
   "outputs": [],
   "source": [
    "#Lable encoding\n",
    "df = pd.read_csv(\"scikit1_data.csv\")\n",
    "\n",
    "df_label = df.copy()\n",
    "\n",
    "#Lable encoding\n",
    "le = LabelEncoder()\n",
    "df_label[\"Gender_Encoded\"] = le.fit_transform(df_label[\"Gender\"])\n",
    "df_label[\"Passed_Encoded\"] = le.fit_transform(df_label[\"Passed\"])\n",
    "# print(df_label); print()\n",
    "\n",
    "#One-Hot Encoding\n",
    "df_encoded = pd.get_dummies(df_label, columns = [\"City\"])\n",
    "print(df_encoded)"
   ]
  },
  {
   "cell_type": "code",
   "execution_count": null,
   "id": "4a5aa594",
   "metadata": {},
   "outputs": [],
   "source": []
  }
 ],
 "metadata": {
  "kernelspec": {
   "display_name": "Python 3",
   "language": "python",
   "name": "python3"
  },
  "language_info": {
   "codemirror_mode": {
    "name": "ipython",
    "version": 3
   },
   "file_extension": ".py",
   "mimetype": "text/x-python",
   "name": "python",
   "nbconvert_exporter": "python",
   "pygments_lexer": "ipython3",
   "version": "3.13.4"
  }
 },
 "nbformat": 4,
 "nbformat_minor": 5
}
