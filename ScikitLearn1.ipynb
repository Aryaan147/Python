{
 "cells": [
  {
   "cell_type": "code",
   "execution_count": 1,
   "id": "c4c18847",
   "metadata": {},
   "outputs": [],
   "source": [
    "import pandas as pd\n",
    "from sklearn.preprocessing import LabelEncoder"
   ]
  },
  {
   "cell_type": "code",
   "execution_count": 2,
   "id": "f275e9db",
   "metadata": {},
   "outputs": [
    {
     "name": "stdout",
     "output_type": "stream",
     "text": [
      "Oignial Dataframe\n",
      "    name   age   salary\n",
      "0  Pavan  25.0  50000.0\n",
      "1  Kapil   NaN  60000.0\n",
      "2  Lalit  44.0  70000.0\n",
      "3  Ishan  23.0      NaN\n",
      "4   Ansh   NaN      NaN\n",
      "\n",
      "name      0\n",
      "age       2\n",
      "salary    2\n",
      "dtype: int64\n",
      "\n",
      "    name   age   salary\n",
      "0  Pavan  25.0  50000.0\n",
      "2  Lalit  44.0  70000.0\n",
      "\n",
      "    name        age   salary\n",
      "0  Pavan  25.000000  50000.0\n",
      "1  Kapil  30.666667  60000.0\n",
      "2  Lalit  44.000000  70000.0\n",
      "3  Ishan  23.000000  60000.0\n",
      "4   Ansh  30.666667  60000.0\n"
     ]
    }
   ],
   "source": [
    "data = {\n",
    "    \"name\" : [\"Pavan\", \"Kapil\", \"Lalit\", \"Ishan\", \"Ansh\"],\n",
    "    \"age\" : [25, None, 44,23,None],\n",
    "    \"salary\" : [50000, 60000, 70000, None, None]\n",
    "}\n",
    "df= pd.DataFrame(data)\n",
    "print(\"Oignial Dataframe\")\n",
    "print(df); print()\n",
    "\n",
    "print(df.isnull().sum()); print()\n",
    "\n",
    "print(df.dropna())\n",
    "\n",
    "df[\"age\"] = df[\"age\"].fillna(df[\"age\"].mean())\n",
    "df[\"salary\"] = df[\"salary\"].fillna(df[\"salary\"].mean())\n",
    "\n",
    "print()\n",
    "print(df)"
   ]
  },
  {
   "cell_type": "code",
   "execution_count": null,
   "id": "3f477083",
   "metadata": {},
   "outputs": [
    {
     "name": "stdout",
     "output_type": "stream",
     "text": [
      "      Name  Gender Passed  Gender_Encoded  Passed_Encoded  City_Bangalore  \\\n",
      "0     Aman    Male    Yes               1               1           False   \n",
      "1    Priya  Female    Yes               0               1           False   \n",
      "2    Rahul    Male     No               1               0            True   \n",
      "3   Anjali  Female    Yes               0               1           False   \n",
      "4     Ravi    Male    Yes               1               1           False   \n",
      "5    Meera  Female     No               0               0           False   \n",
      "6    Arjun    Male    Yes               1               1            True   \n",
      "7     Neha  Female    Yes               0               1           False   \n",
      "8    Imran    Male     No               1               0           False   \n",
      "9    Sneha  Female    Yes               0               1           False   \n",
      "10     Raj    Male    Yes               1               1           False   \n",
      "11   Divya  Female     No               0               0           False   \n",
      "12   Kabir    Male    Yes               1               1           False   \n",
      "13  Simran  Female    Yes               0               1            True   \n",
      "14   Karan    Male     No               1               0           False   \n",
      "15   Pooja  Female    Yes               0               1           False   \n",
      "16  Rakesh    Male    Yes               1               1           False   \n",
      "17    Isha  Female     No               0               0           False   \n",
      "18   Rohit    Male    Yes               1               1           False   \n",
      "19   Deepa  Female    Yes               0               1            True   \n",
      "\n",
      "    City_Chennai  City_Delhi  City_Mumbai  \n",
      "0          False        True        False  \n",
      "1          False       False         True  \n",
      "2          False       False        False  \n",
      "3          False       False         True  \n",
      "4          False        True        False  \n",
      "5           True       False        False  \n",
      "6          False       False        False  \n",
      "7          False        True        False  \n",
      "8           True       False        False  \n",
      "9          False       False         True  \n",
      "10          True       False        False  \n",
      "11         False        True        False  \n",
      "12         False       False         True  \n",
      "13         False       False        False  \n",
      "14         False        True        False  \n",
      "15         False       False         True  \n",
      "16          True       False        False  \n",
      "17         False        True        False  \n",
      "18         False        True        False  \n",
      "19         False       False        False  \n"
     ]
    }
   ],
   "source": [
    "#Lable encoding\n",
    "df = pd.read_csv(\"scikit1_data.csv\")\n",
    "\n",
    "df_label = df.copy()\n",
    "\n",
    "#Lable encoding\n",
    "le = LabelEncoder()\n",
    "df_label[\"Gender_Encoded\"] = le.fit_transform(df_label[\"Gender\"])\n",
    "df_label[\"Passed_Encoded\"] = le.fit_transform(df_label[\"Passed\"])\n",
    "# print(df_label); print()\n",
    "\n",
    "#One-Hot Encoding\n",
    "df_encoded = pd.get_dummies(df_label, columns = [\"City\"])\n",
    "print(df_encoded)"
   ]
  },
  {
   "cell_type": "code",
   "execution_count": null,
   "id": "4a5aa594",
   "metadata": {},
   "outputs": [],
   "source": []
  }
 ],
 "metadata": {
  "kernelspec": {
   "display_name": ".venv",
   "language": "python",
   "name": "python3"
  },
  "language_info": {
   "codemirror_mode": {
    "name": "ipython",
    "version": 3
   },
   "file_extension": ".py",
   "mimetype": "text/x-python",
   "name": "python",
   "nbconvert_exporter": "python",
   "pygments_lexer": "ipython3",
   "version": "3.13.4"
  }
 },
 "nbformat": 4,
 "nbformat_minor": 5
}
