{
 "cells": [
  {
   "cell_type": "code",
   "execution_count": 43,
   "id": "ed22cbc9",
   "metadata": {},
   "outputs": [],
   "source": [
    "import pandas as pd\n",
    "\n",
    "# .csv: comma separated values file\n",
    "# series: data with only one row\n",
    "# dataframe: data with multiplr rows"
   ]
  },
  {
   "cell_type": "code",
   "execution_count": 44,
   "id": "fcb48bfd",
   "metadata": {},
   "outputs": [
    {
     "name": "stdout",
     "output_type": "stream",
     "text": [
      "      ORDERNUMBER  QUANTITYORDERED  PRICEEACH  ORDERLINENUMBER    SALES  \\\n",
      "0           10107               30      95.70                2  2871.00   \n",
      "1           10121               34      81.35                5  2765.90   \n",
      "2           10134               41      94.74                2  3884.34   \n",
      "3           10145               45      83.26                6  3746.70   \n",
      "4           10159               49     100.00               14  5205.27   \n",
      "...           ...              ...        ...              ...      ...   \n",
      "2818        10350               20     100.00               15  2244.40   \n",
      "2819        10373               29     100.00                1  3978.51   \n",
      "2820        10386               43     100.00                4  5417.57   \n",
      "2821        10397               34      62.24                1  2116.16   \n",
      "2822        10414               47      65.52                9  3079.44   \n",
      "\n",
      "            ORDERDATE    STATUS  QTR_ID  MONTH_ID  YEAR_ID  ...  \\\n",
      "0      2/24/2003 0:00   Shipped       1         2     2003  ...   \n",
      "1       5/7/2003 0:00   Shipped       2         5     2003  ...   \n",
      "2       7/1/2003 0:00   Shipped       3         7     2003  ...   \n",
      "3      8/25/2003 0:00   Shipped       3         8     2003  ...   \n",
      "4     10/10/2003 0:00   Shipped       4        10     2003  ...   \n",
      "...               ...       ...     ...       ...      ...  ...   \n",
      "2818   12/2/2004 0:00   Shipped       4        12     2004  ...   \n",
      "2819   1/31/2005 0:00   Shipped       1         1     2005  ...   \n",
      "2820    3/1/2005 0:00  Resolved       1         3     2005  ...   \n",
      "2821   3/28/2005 0:00   Shipped       1         3     2005  ...   \n",
      "2822    5/6/2005 0:00   On Hold       2         5     2005  ...   \n",
      "\n",
      "                       ADDRESSLINE1  ADDRESSLINE2           CITY STATE  \\\n",
      "0           897 Long Airport Avenue           NaN            NYC    NY   \n",
      "1                59 rue de l'Abbaye           NaN          Reims   NaN   \n",
      "2     27 rue du Colonel Pierre Avia           NaN          Paris   NaN   \n",
      "3                78934 Hillside Dr.           NaN       Pasadena    CA   \n",
      "4                   7734 Strong St.           NaN  San Francisco    CA   \n",
      "...                             ...           ...            ...   ...   \n",
      "2818             C/ Moralzarzal, 86           NaN         Madrid   NaN   \n",
      "2819                    Torikatu 38           NaN           Oulu   NaN   \n",
      "2820             C/ Moralzarzal, 86           NaN         Madrid   NaN   \n",
      "2821          1 rue Alsace-Lorraine           NaN       Toulouse   NaN   \n",
      "2822             8616 Spinnaker Dr.           NaN         Boston    MA   \n",
      "\n",
      "     POSTALCODE  COUNTRY TERRITORY CONTACTLASTNAME CONTACTFIRSTNAME DEALSIZE  \n",
      "0         10022      USA       NaN              Yu             Kwai    Small  \n",
      "1         51100   France      EMEA         Henriot             Paul    Small  \n",
      "2         75508   France      EMEA        Da Cunha           Daniel   Medium  \n",
      "3         90003      USA       NaN           Young            Julie   Medium  \n",
      "4           NaN      USA       NaN           Brown            Julie   Medium  \n",
      "...         ...      ...       ...             ...              ...      ...  \n",
      "2818      28034    Spain      EMEA          Freyre            Diego    Small  \n",
      "2819      90110  Finland      EMEA       Koskitalo           Pirkko   Medium  \n",
      "2820      28034    Spain      EMEA          Freyre            Diego   Medium  \n",
      "2821      31000   France      EMEA          Roulet          Annette    Small  \n",
      "2822      51003      USA       NaN         Yoshido             Juri   Medium  \n",
      "\n",
      "[2823 rows x 25 columns]\n"
     ]
    }
   ],
   "source": [
    "df = pd.read_csv(\"sales_data_sample.csv\", encoding = \"latin1\")\n",
    "print(df)\n",
    "\n",
    "#if getting ecoding error then write \"encoding = \"latin1\"\" or \"encoding = \"utf-8\"\"\n",
    "#can read json and excel file with \n",
    "#           pd.read_json()\n",
    "#       or  pd.read_excel\n"
   ]
  },
  {
   "cell_type": "code",
   "execution_count": 45,
   "id": "b40e4382",
   "metadata": {},
   "outputs": [
    {
     "name": "stdout",
     "output_type": "stream",
     "text": [
      "      ORDERNUMBER  QUANTITYORDERED  PRICEEACH  ORDERLINENUMBER    SALES  \\\n",
      "0           10107               30      95.70                2  2871.00   \n",
      "1           10121               34      81.35                5  2765.90   \n",
      "2           10134               41      94.74                2  3884.34   \n",
      "3           10145               45      83.26                6  3746.70   \n",
      "4           10159               49     100.00               14  5205.27   \n",
      "...           ...              ...        ...              ...      ...   \n",
      "2818        10350               20     100.00               15  2244.40   \n",
      "2819        10373               29     100.00                1  3978.51   \n",
      "2820        10386               43     100.00                4  5417.57   \n",
      "2821        10397               34      62.24                1  2116.16   \n",
      "2822        10414               47      65.52                9  3079.44   \n",
      "\n",
      "            ORDERDATE    STATUS  QTR_ID  MONTH_ID  YEAR_ID  ...  \\\n",
      "0      2/24/2003 0:00   Shipped       1         2     2003  ...   \n",
      "1       5/7/2003 0:00   Shipped       2         5     2003  ...   \n",
      "2       7/1/2003 0:00   Shipped       3         7     2003  ...   \n",
      "3      8/25/2003 0:00   Shipped       3         8     2003  ...   \n",
      "4     10/10/2003 0:00   Shipped       4        10     2003  ...   \n",
      "...               ...       ...     ...       ...      ...  ...   \n",
      "2818   12/2/2004 0:00   Shipped       4        12     2004  ...   \n",
      "2819   1/31/2005 0:00   Shipped       1         1     2005  ...   \n",
      "2820    3/1/2005 0:00  Resolved       1         3     2005  ...   \n",
      "2821   3/28/2005 0:00   Shipped       1         3     2005  ...   \n",
      "2822    5/6/2005 0:00   On Hold       2         5     2005  ...   \n",
      "\n",
      "                       ADDRESSLINE1  ADDRESSLINE2           CITY STATE  \\\n",
      "0           897 Long Airport Avenue           NaN            NYC    NY   \n",
      "1                59 rue de l'Abbaye           NaN          Reims   NaN   \n",
      "2     27 rue du Colonel Pierre Avia           NaN          Paris   NaN   \n",
      "3                78934 Hillside Dr.           NaN       Pasadena    CA   \n",
      "4                   7734 Strong St.           NaN  San Francisco    CA   \n",
      "...                             ...           ...            ...   ...   \n",
      "2818             C/ Moralzarzal, 86           NaN         Madrid   NaN   \n",
      "2819                    Torikatu 38           NaN           Oulu   NaN   \n",
      "2820             C/ Moralzarzal, 86           NaN         Madrid   NaN   \n",
      "2821          1 rue Alsace-Lorraine           NaN       Toulouse   NaN   \n",
      "2822             8616 Spinnaker Dr.           NaN         Boston    MA   \n",
      "\n",
      "     POSTALCODE  COUNTRY TERRITORY CONTACTLASTNAME CONTACTFIRSTNAME DEALSIZE  \n",
      "0         10022      USA       NaN              Yu             Kwai    Small  \n",
      "1         51100   France      EMEA         Henriot             Paul    Small  \n",
      "2         75508   France      EMEA        Da Cunha           Daniel   Medium  \n",
      "3         90003      USA       NaN           Young            Julie   Medium  \n",
      "4           NaN      USA       NaN           Brown            Julie   Medium  \n",
      "...         ...      ...       ...             ...              ...      ...  \n",
      "2818      28034    Spain      EMEA          Freyre            Diego    Small  \n",
      "2819      90110  Finland      EMEA       Koskitalo           Pirkko   Medium  \n",
      "2820      28034    Spain      EMEA          Freyre            Diego   Medium  \n",
      "2821      31000   France      EMEA          Roulet          Annette    Small  \n",
      "2822      51003      USA       NaN         Yoshido             Juri   Medium  \n",
      "\n",
      "[2823 rows x 25 columns]\n"
     ]
    }
   ],
   "source": [
    "# How to save the data as a file\n",
    "\n",
    "data = {\n",
    "    \"Name\":[\"Ram\", \"Shyam\", \"Ghanshyam\", \"Rohit\", \"Rohan\"],\n",
    "    \"Age\":[22, 25, 23, 26, 23],\n",
    "    \"Salary\":[10, 8, 13, 9, 11],\n",
    "    \"Performance\":[98, 96, 97, 95, 99]\n",
    "}\n",
    "small_df = pd.DataFrame(data)\n",
    "print(df)\n",
    "\n",
    "small_df.to_csv(\"data.csv\", index = False)   # Saves the dat ain a csv file in current folder\n"
   ]
  },
  {
   "cell_type": "code",
   "execution_count": 46,
   "id": "02afa39a",
   "metadata": {},
   "outputs": [
    {
     "name": "stdout",
     "output_type": "stream",
     "text": [
      "   ORDERNUMBER  QUANTITYORDERED  PRICEEACH  ORDERLINENUMBER    SALES  \\\n",
      "0        10107               30      95.70                2  2871.00   \n",
      "1        10121               34      81.35                5  2765.90   \n",
      "2        10134               41      94.74                2  3884.34   \n",
      "3        10145               45      83.26                6  3746.70   \n",
      "4        10159               49     100.00               14  5205.27   \n",
      "5        10168               36      96.66                1  3479.76   \n",
      "6        10180               29      86.13                9  2497.77   \n",
      "7        10188               48     100.00                1  5512.32   \n",
      "8        10201               22      98.57                2  2168.54   \n",
      "9        10211               41     100.00               14  4708.44   \n",
      "\n",
      "         ORDERDATE   STATUS  QTR_ID  MONTH_ID  YEAR_ID  ...  \\\n",
      "0   2/24/2003 0:00  Shipped       1         2     2003  ...   \n",
      "1    5/7/2003 0:00  Shipped       2         5     2003  ...   \n",
      "2    7/1/2003 0:00  Shipped       3         7     2003  ...   \n",
      "3   8/25/2003 0:00  Shipped       3         8     2003  ...   \n",
      "4  10/10/2003 0:00  Shipped       4        10     2003  ...   \n",
      "5  10/28/2003 0:00  Shipped       4        10     2003  ...   \n",
      "6  11/11/2003 0:00  Shipped       4        11     2003  ...   \n",
      "7  11/18/2003 0:00  Shipped       4        11     2003  ...   \n",
      "8   12/1/2003 0:00  Shipped       4        12     2003  ...   \n",
      "9   1/15/2004 0:00  Shipped       1         1     2004  ...   \n",
      "\n",
      "                    ADDRESSLINE1  ADDRESSLINE2           CITY STATE  \\\n",
      "0        897 Long Airport Avenue           NaN            NYC    NY   \n",
      "1             59 rue de l'Abbaye           NaN          Reims   NaN   \n",
      "2  27 rue du Colonel Pierre Avia           NaN          Paris   NaN   \n",
      "3             78934 Hillside Dr.           NaN       Pasadena    CA   \n",
      "4                7734 Strong St.           NaN  San Francisco    CA   \n",
      "5              9408 Furth Circle           NaN     Burlingame    CA   \n",
      "6        184, chausse de Tournai           NaN          Lille   NaN   \n",
      "7    Drammen 121, PR 744 Sentrum           NaN         Bergen   NaN   \n",
      "8      5557 North Pendale Street           NaN  San Francisco    CA   \n",
      "9              25, rue Lauriston           NaN          Paris   NaN   \n",
      "\n",
      "  POSTALCODE COUNTRY TERRITORY CONTACTLASTNAME CONTACTFIRSTNAME DEALSIZE  \n",
      "0      10022     USA       NaN              Yu             Kwai    Small  \n",
      "1      51100  France      EMEA         Henriot             Paul    Small  \n",
      "2      75508  France      EMEA        Da Cunha           Daniel   Medium  \n",
      "3      90003     USA       NaN           Young            Julie   Medium  \n",
      "4        NaN     USA       NaN           Brown            Julie   Medium  \n",
      "5      94217     USA       NaN          Hirano             Juri   Medium  \n",
      "6      59000  France      EMEA           Rance          Martine    Small  \n",
      "7     N 5804  Norway      EMEA          Oeztan           Veysel   Medium  \n",
      "8        NaN     USA       NaN          Murphy            Julie    Small  \n",
      "9      75016  France      EMEA         Perrier        Dominique   Medium  \n",
      "\n",
      "[10 rows x 25 columns]\n",
      "      ORDERNUMBER  QUANTITYORDERED  PRICEEACH  ORDERLINENUMBER    SALES  \\\n",
      "2813        10293               32      60.06                1  1921.92   \n",
      "2814        10306               35      59.51                6  2082.85   \n",
      "2815        10315               40      55.69                5  2227.60   \n",
      "2816        10327               37      86.74                4  3209.38   \n",
      "2817        10337               42      97.16                5  4080.72   \n",
      "2818        10350               20     100.00               15  2244.40   \n",
      "2819        10373               29     100.00                1  3978.51   \n",
      "2820        10386               43     100.00                4  5417.57   \n",
      "2821        10397               34      62.24                1  2116.16   \n",
      "2822        10414               47      65.52                9  3079.44   \n",
      "\n",
      "            ORDERDATE    STATUS  QTR_ID  MONTH_ID  YEAR_ID  ...  \\\n",
      "2813    9/9/2004 0:00   Shipped       3         9     2004  ...   \n",
      "2814  10/14/2004 0:00   Shipped       4        10     2004  ...   \n",
      "2815  10/29/2004 0:00   Shipped       4        10     2004  ...   \n",
      "2816  11/10/2004 0:00  Resolved       4        11     2004  ...   \n",
      "2817  11/21/2004 0:00   Shipped       4        11     2004  ...   \n",
      "2818   12/2/2004 0:00   Shipped       4        12     2004  ...   \n",
      "2819   1/31/2005 0:00   Shipped       1         1     2005  ...   \n",
      "2820    3/1/2005 0:00  Resolved       1         3     2005  ...   \n",
      "2821   3/28/2005 0:00   Shipped       1         3     2005  ...   \n",
      "2822    5/6/2005 0:00   On Hold       2         5     2005  ...   \n",
      "\n",
      "                      ADDRESSLINE1  ADDRESSLINE2        CITY STATE POSTALCODE  \\\n",
      "2813           Via Monte Bianco 34           NaN      Torino   NaN      10100   \n",
      "2814             Fauntleroy Circus           NaN  Manchester   NaN    EC2 5NT   \n",
      "2815  67, rue des Cinquante Otages           NaN      Nantes   NaN      44000   \n",
      "2816                  Vinb'ltet 34           NaN   Kobenhavn   NaN       1734   \n",
      "2817              5905 Pompton St.     Suite 750         NYC    NY      10022   \n",
      "2818            C/ Moralzarzal, 86           NaN      Madrid   NaN      28034   \n",
      "2819                   Torikatu 38           NaN        Oulu   NaN      90110   \n",
      "2820            C/ Moralzarzal, 86           NaN      Madrid   NaN      28034   \n",
      "2821         1 rue Alsace-Lorraine           NaN    Toulouse   NaN      31000   \n",
      "2822            8616 Spinnaker Dr.           NaN      Boston    MA      51003   \n",
      "\n",
      "      COUNTRY TERRITORY CONTACTLASTNAME CONTACTFIRSTNAME DEALSIZE  \n",
      "2813    Italy      EMEA         Accorti            Paolo    Small  \n",
      "2814       UK      EMEA        Ashworth         Victoria    Small  \n",
      "2815   France      EMEA         Labrune           Janine    Small  \n",
      "2816  Denmark      EMEA        Petersen            Jytte   Medium  \n",
      "2817      USA       NaN       Hernandez            Maria   Medium  \n",
      "2818    Spain      EMEA          Freyre            Diego    Small  \n",
      "2819  Finland      EMEA       Koskitalo           Pirkko   Medium  \n",
      "2820    Spain      EMEA          Freyre            Diego   Medium  \n",
      "2821   France      EMEA          Roulet          Annette    Small  \n",
      "2822      USA       NaN         Yoshido             Juri   Medium  \n",
      "\n",
      "[10 rows x 25 columns]\n",
      "   ORDERNUMBER  QUANTITYORDERED  PRICEEACH  ORDERLINENUMBER    SALES  \\\n",
      "0        10107               30      95.70                2  2871.00   \n",
      "1        10121               34      81.35                5  2765.90   \n",
      "2        10134               41      94.74                2  3884.34   \n",
      "3        10145               45      83.26                6  3746.70   \n",
      "4        10159               49     100.00               14  5205.27   \n",
      "\n",
      "         ORDERDATE   STATUS  QTR_ID  MONTH_ID  YEAR_ID  ...  \\\n",
      "0   2/24/2003 0:00  Shipped       1         2     2003  ...   \n",
      "1    5/7/2003 0:00  Shipped       2         5     2003  ...   \n",
      "2    7/1/2003 0:00  Shipped       3         7     2003  ...   \n",
      "3   8/25/2003 0:00  Shipped       3         8     2003  ...   \n",
      "4  10/10/2003 0:00  Shipped       4        10     2003  ...   \n",
      "\n",
      "                    ADDRESSLINE1  ADDRESSLINE2           CITY STATE  \\\n",
      "0        897 Long Airport Avenue           NaN            NYC    NY   \n",
      "1             59 rue de l'Abbaye           NaN          Reims   NaN   \n",
      "2  27 rue du Colonel Pierre Avia           NaN          Paris   NaN   \n",
      "3             78934 Hillside Dr.           NaN       Pasadena    CA   \n",
      "4                7734 Strong St.           NaN  San Francisco    CA   \n",
      "\n",
      "  POSTALCODE COUNTRY TERRITORY CONTACTLASTNAME CONTACTFIRSTNAME DEALSIZE  \n",
      "0      10022     USA       NaN              Yu             Kwai    Small  \n",
      "1      51100  France      EMEA         Henriot             Paul    Small  \n",
      "2      75508  France      EMEA        Da Cunha           Daniel   Medium  \n",
      "3      90003     USA       NaN           Young            Julie   Medium  \n",
      "4        NaN     USA       NaN           Brown            Julie   Medium  \n",
      "\n",
      "[5 rows x 25 columns]\n"
     ]
    }
   ],
   "source": [
    "#head() tail()\n",
    "print(df.head(10))   #First 10 rows\n",
    "print(df.tail(10))   #Last 10 rows\n",
    "\n",
    "#for defoult no. of rows are 5\n",
    "print(df.head())"
   ]
  },
  {
   "cell_type": "code",
   "execution_count": 47,
   "id": "14a32593",
   "metadata": {},
   "outputs": [
    {
     "name": "stdout",
     "output_type": "stream",
     "text": [
      "<class 'pandas.core.frame.DataFrame'>\n",
      "RangeIndex: 5 entries, 0 to 4\n",
      "Data columns (total 4 columns):\n",
      " #   Column       Non-Null Count  Dtype \n",
      "---  ------       --------------  ----- \n",
      " 0   Name         5 non-null      object\n",
      " 1   Age          5 non-null      int64 \n",
      " 2   Salary       5 non-null      int64 \n",
      " 3   Performance  5 non-null      int64 \n",
      "dtypes: int64(3), object(1)\n",
      "memory usage: 292.0+ bytes\n",
      "None\n"
     ]
    }
   ],
   "source": [
    "# Display info of dataset\n",
    "print(small_df.info())"
   ]
  },
  {
   "cell_type": "code",
   "execution_count": 48,
   "id": "902922ce",
   "metadata": {},
   "outputs": [
    {
     "name": "stdout",
     "output_type": "stream",
     "text": [
      "             Age     Salary  Performance\n",
      "count   5.000000   5.000000     5.000000\n",
      "mean   23.800000  10.200000    97.000000\n",
      "std     1.643168   1.923538     1.581139\n",
      "min    22.000000   8.000000    95.000000\n",
      "25%    23.000000   9.000000    96.000000\n",
      "50%    23.000000  10.000000    97.000000\n",
      "75%    25.000000  11.000000    98.000000\n",
      "max    26.000000  13.000000    99.000000\n"
     ]
    }
   ],
   "source": [
    "#descriptive satistics\n",
    "print(small_df.describe())"
   ]
  },
  {
   "cell_type": "code",
   "execution_count": 49,
   "id": "b24c9fc7",
   "metadata": {},
   "outputs": [
    {
     "name": "stdout",
     "output_type": "stream",
     "text": [
      "Shape: (5, 4)\n",
      "Column Names: Index(['Name', 'Age', 'Salary', 'Performance'], dtype='object')\n"
     ]
    }
   ],
   "source": [
    "print(f\"Shape: {small_df.shape}\")\n",
    "print(f\"Column Names: {small_df.columns}\")"
   ]
  },
  {
   "cell_type": "code",
   "execution_count": 55,
   "id": "a9ea52db",
   "metadata": {},
   "outputs": [
    {
     "name": "stdout",
     "output_type": "stream",
     "text": [
      "0          Ram\n",
      "1        Shyam\n",
      "2    Ghanshyam\n",
      "3        Rohit\n",
      "4        Rohan\n",
      "Name: Name, dtype: object\n"
     ]
    }
   ],
   "source": [
    "#Acess Single Column (returns series)\n",
    "print(small_df[\"Name\"])"
   ]
  },
  {
   "cell_type": "code",
   "execution_count": 51,
   "id": "717ab5b7",
   "metadata": {},
   "outputs": [
    {
     "name": "stdout",
     "output_type": "stream",
     "text": [
      "        Name  Salary\n",
      "0        Ram      10\n",
      "1      Shyam       8\n",
      "2  Ghanshyam      13\n",
      "3      Rohit       9\n",
      "4      Rohan      11\n"
     ]
    }
   ],
   "source": [
    "#Acess Multiple Column (returns dataframe)\n",
    "print(small_df[[\"Name\", \"Salary\"]])"
   ]
  },
  {
   "cell_type": "code",
   "execution_count": null,
   "id": "576f7b1b",
   "metadata": {},
   "outputs": [
    {
     "name": "stdout",
     "output_type": "stream",
     "text": [
      "        Name  Age  Salary  Performance\n",
      "0        Ram   22      10           98\n",
      "2  Ghanshyam   23      13           97\n",
      "4      Rohan   23      11           99\n"
     ]
    }
   ],
   "source": [
    "#Filtering Rows\n",
    "high_salary = small_df[small_df[\"Salary\"]>9]\n",
    "print(high_salary)"
   ]
  },
  {
   "cell_type": "code",
   "execution_count": null,
   "id": "3b4dedcb",
   "metadata": {},
   "outputs": [
    {
     "name": "stdout",
     "output_type": "stream",
     "text": [
      "        Name  Age  Salary  Performance\n",
      "2  Ghanshyam   23      13           97\n",
      "4      Rohan   23      11           99\n"
     ]
    }
   ],
   "source": [
    "#Multiple Conditions\n",
    "filtered = small_df[(small_df[\"Age\"]>22) & (small_df[\"Salary\"]>9)]\n",
    "print(filtered)"
   ]
  },
  {
   "cell_type": "code",
   "execution_count": null,
   "id": "9e3580af",
   "metadata": {},
   "outputs": [],
   "source": []
  },
  {
   "cell_type": "code",
   "execution_count": null,
   "id": "1d70b1f1",
   "metadata": {},
   "outputs": [],
   "source": []
  },
  {
   "cell_type": "code",
   "execution_count": null,
   "id": "c05e393e",
   "metadata": {},
   "outputs": [],
   "source": []
  },
  {
   "cell_type": "code",
   "execution_count": null,
   "id": "90b38573",
   "metadata": {},
   "outputs": [],
   "source": []
  },
  {
   "cell_type": "code",
   "execution_count": null,
   "id": "26485e9c",
   "metadata": {},
   "outputs": [],
   "source": []
  },
  {
   "cell_type": "code",
   "execution_count": null,
   "id": "c9eb6622",
   "metadata": {},
   "outputs": [],
   "source": []
  },
  {
   "cell_type": "code",
   "execution_count": null,
   "id": "09897203",
   "metadata": {},
   "outputs": [],
   "source": []
  },
  {
   "cell_type": "code",
   "execution_count": null,
   "id": "3346f3af",
   "metadata": {},
   "outputs": [],
   "source": []
  },
  {
   "cell_type": "code",
   "execution_count": null,
   "id": "399d4943",
   "metadata": {},
   "outputs": [],
   "source": []
  },
  {
   "cell_type": "code",
   "execution_count": null,
   "id": "625a8d7c",
   "metadata": {},
   "outputs": [],
   "source": []
  },
  {
   "cell_type": "code",
   "execution_count": null,
   "id": "42317291",
   "metadata": {},
   "outputs": [],
   "source": []
  },
  {
   "cell_type": "code",
   "execution_count": null,
   "id": "30b19db4",
   "metadata": {},
   "outputs": [],
   "source": []
  },
  {
   "cell_type": "code",
   "execution_count": null,
   "id": "b2be21af",
   "metadata": {},
   "outputs": [],
   "source": []
  },
  {
   "cell_type": "code",
   "execution_count": null,
   "id": "2c8beef3",
   "metadata": {},
   "outputs": [],
   "source": []
  },
  {
   "cell_type": "code",
   "execution_count": null,
   "id": "1a368efa",
   "metadata": {},
   "outputs": [],
   "source": []
  },
  {
   "cell_type": "code",
   "execution_count": null,
   "id": "0d40631c",
   "metadata": {},
   "outputs": [],
   "source": []
  }
 ],
 "metadata": {
  "kernelspec": {
   "display_name": ".venv",
   "language": "python",
   "name": "python3"
  },
  "language_info": {
   "codemirror_mode": {
    "name": "ipython",
    "version": 3
   },
   "file_extension": ".py",
   "mimetype": "text/x-python",
   "name": "python",
   "nbconvert_exporter": "python",
   "pygments_lexer": "ipython3",
   "version": "3.13.4"
  }
 },
 "nbformat": 4,
 "nbformat_minor": 5
}
